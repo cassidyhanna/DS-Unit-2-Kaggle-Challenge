{
  "nbformat": 4,
  "nbformat_minor": 0,
  "metadata": {
    "kernelspec": {
      "display_name": "Python 3",
      "language": "python",
      "name": "python3"
    },
    "language_info": {
      "codemirror_mode": {
        "name": "ipython",
        "version": 3
      },
      "file_extension": ".py",
      "mimetype": "text/x-python",
      "name": "python",
      "nbconvert_exporter": "python",
      "pygments_lexer": "ipython3",
      "version": "3.7.6"
    },
    "colab": {
      "name": "U2,S2,M1",
      "provenance": [],
      "include_colab_link": true
    }
  },
  "cells": [
    {
      "cell_type": "markdown",
      "metadata": {
        "id": "view-in-github",
        "colab_type": "text"
      },
      "source": [
        "<a href=\"https://colab.research.google.com/github/cassidyhanna/DS-Unit-2-Kaggle-Challenge/blob/master/module1/U2%2CS2%2CM1.ipynb\" target=\"_parent\"><img src=\"https://colab.research.google.com/assets/colab-badge.svg\" alt=\"Open In Colab\"/></a>"
      ]
    },
    {
      "cell_type": "markdown",
      "metadata": {
        "id": "Ym0OhJzz_OHy",
        "colab_type": "text"
      },
      "source": [
        "Lambda School Data Science\n",
        "\n",
        "*Unit 2, Sprint 2, Module 1*\n",
        "\n",
        "---"
      ]
    },
    {
      "cell_type": "markdown",
      "metadata": {
        "colab_type": "text",
        "id": "7IXUfiQ2UKj6"
      },
      "source": [
        "# Decision Trees\n",
        "\n",
        "## Assignment\n",
        "- [ ] [Sign up for a Kaggle account](https://www.kaggle.com/), if you don’t already have one. Go to our Kaggle InClass competition website. You will be given the URL in Slack. Go to the Rules page. Accept the rules of the competition. Notice that the Rules page also has instructions for the Submission process. The Data page has feature definitions.\n",
        "- [ ] Do train/validate/test split with the Tanzania Waterpumps data.\n",
        "- [ ] Begin with baselines for classification.\n",
        "- [ ] Select features. Use a scikit-learn pipeline to encode categoricals, impute missing values, and fit a decision tree classifier.\n",
        "- [ ] Get your validation accuracy score.\n",
        "- [ ] Get and plot your feature importances.\n",
        "- [ ] Submit your predictions to our Kaggle competition. (Go to our Kaggle InClass competition webpage. Use the blue **Submit Predictions** button to upload your CSV file. Or you can use the Kaggle API to submit your predictions.)\n",
        "- [ ] Commit your notebook to your fork of the GitHub repo.\n",
        "\n",
        "\n",
        "## Stretch Goals\n",
        "\n",
        "### Reading\n",
        "\n",
        "- A Visual Introduction to Machine Learning\n",
        "  - [Part 1: A Decision Tree](http://www.r2d3.us/visual-intro-to-machine-learning-part-1/)\n",
        "  - [Part 2: Bias and Variance](http://www.r2d3.us/visual-intro-to-machine-learning-part-2/)\n",
        "- [Decision Trees: Advantages & Disadvantages](https://christophm.github.io/interpretable-ml-book/tree.html#advantages-2)\n",
        "- [How a Russian mathematician constructed a decision tree — by hand — to solve a medical problem](http://fastml.com/how-a-russian-mathematician-constructed-a-decision-tree-by-hand-to-solve-a-medical-problem/)\n",
        "- [How decision trees work](https://brohrer.github.io/how_decision_trees_work.html)\n",
        "- [Let’s Write a Decision Tree Classifier from Scratch](https://www.youtube.com/watch?v=LDRbO9a6XPU) — _Don’t worry about understanding the code, just get introduced to the concepts. This 10 minute video has excellent diagrams and explanations._\n",
        "- [Random Forests for Complete Beginners: The definitive guide to Random Forests and Decision Trees](https://victorzhou.com/blog/intro-to-random-forests/)\n",
        "\n",
        "\n",
        "### Doing\n",
        "- [ ] Add your own stretch goal(s) !\n",
        "- [ ] Define a function to wrangle train, validate, and test sets in the same way. Clean outliers and engineer features. (For example, [what columns have zeros and shouldn't?](https://github.com/Quartz/bad-data-guide#zeros-replace-missing-values) What columns are duplicates, or nearly duplicates? Can you extract the year from date_recorded? Can you engineer new features, such as the number of years from waterpump construction to waterpump inspection?)\n",
        "- [ ] Try other [scikit-learn imputers](https://scikit-learn.org/stable/modules/impute.html).\n",
        "- [ ] Make exploratory visualizations and share on Slack.\n",
        "\n",
        "\n",
        "#### Exploratory visualizations\n",
        "\n",
        "Visualize the relationships between feature(s) and target. I recommend you do this with your training set, after splitting your data. \n",
        "\n",
        "For this problem, you may want to create a new column to represent the target as a number, 0 or 1. For example:\n",
        "\n",
        "```python\n",
        "train['functional'] = (train['status_group']=='functional').astype(int)\n",
        "```\n",
        "\n",
        "\n",
        "\n",
        "You can try [Seaborn \"Categorical estimate\" plots](https://seaborn.pydata.org/tutorial/categorical.html) for features with reasonably few unique values. (With too many unique values, the plot is unreadable.)\n",
        "\n",
        "- Categorical features. (If there are too many unique values, you can replace less frequent values with \"OTHER.\")\n",
        "- Numeric features. (If there are too many unique values, you can [bin with pandas cut / qcut functions](https://pandas.pydata.org/pandas-docs/stable/getting_started/basics.html?highlight=qcut#discretization-and-quantiling).)\n",
        "\n",
        "You can try [Seaborn linear model plots](https://seaborn.pydata.org/tutorial/regression.html) with numeric features. For this classification problem, you may want to use the parameter `logistic=True`, but it can be slow.\n",
        "\n",
        "You do _not_ need to use Seaborn, but it's nice because it includes confidence intervals to visualize uncertainty.\n",
        "\n",
        "#### High-cardinality categoricals\n",
        "\n",
        "This code from a previous assignment demonstrates how to replace less frequent values with 'OTHER'\n",
        "\n",
        "```python\n",
        "# Reduce cardinality for NEIGHBORHOOD feature ...\n",
        "\n",
        "# Get a list of the top 10 neighborhoods\n",
        "top10 = train['NEIGHBORHOOD'].value_counts()[:10].index\n",
        "\n",
        "# At locations where the neighborhood is NOT in the top 10,\n",
        "# replace the neighborhood with 'OTHER'\n",
        "train.loc[~train['NEIGHBORHOOD'].isin(top10), 'NEIGHBORHOOD'] = 'OTHER'\n",
        "test.loc[~test['NEIGHBORHOOD'].isin(top10), 'NEIGHBORHOOD'] = 'OTHER'\n",
        "```\n"
      ]
    },
    {
      "cell_type": "code",
      "metadata": {
        "colab_type": "code",
        "id": "o9eSnDYhUGD7",
        "outputId": "fc921995-fec9-4752-96c0-e5902ba6ba16",
        "colab": {
          "base_uri": "https://localhost:8080/",
          "height": 1000
        }
      },
      "source": [
        "import sys\n",
        "\n",
        "# If you're on Colab:\n",
        "if 'google.colab' in sys.modules:\n",
        "    DATA_PATH = 'https://raw.githubusercontent.com/LambdaSchool/DS-Unit-2-Kaggle-Challenge/master/data/'\n",
        "    !pip install category_encoders==2.*\n",
        "    !pip install pandas-profiling==2.*\n",
        "\n",
        "# If you're working locally:\n",
        "else:\n",
        "    DATA_PATH = '../data/'"
      ],
      "execution_count": 0,
      "outputs": [
        {
          "output_type": "stream",
          "text": [
            "Requirement already satisfied: category_encoders==2.* in /usr/local/lib/python3.6/dist-packages (2.1.0)\n",
            "Requirement already satisfied: patsy>=0.4.1 in /usr/local/lib/python3.6/dist-packages (from category_encoders==2.*) (0.5.1)\n",
            "Requirement already satisfied: scikit-learn>=0.20.0 in /usr/local/lib/python3.6/dist-packages (from category_encoders==2.*) (0.22.1)\n",
            "Requirement already satisfied: pandas>=0.21.1 in /usr/local/lib/python3.6/dist-packages (from category_encoders==2.*) (0.25.3)\n",
            "Requirement already satisfied: scipy>=0.19.0 in /usr/local/lib/python3.6/dist-packages (from category_encoders==2.*) (1.4.1)\n",
            "Requirement already satisfied: numpy>=1.11.3 in /usr/local/lib/python3.6/dist-packages (from category_encoders==2.*) (1.17.5)\n",
            "Requirement already satisfied: statsmodels>=0.6.1 in /usr/local/lib/python3.6/dist-packages (from category_encoders==2.*) (0.10.2)\n",
            "Requirement already satisfied: six in /usr/local/lib/python3.6/dist-packages (from patsy>=0.4.1->category_encoders==2.*) (1.12.0)\n",
            "Requirement already satisfied: joblib>=0.11 in /usr/local/lib/python3.6/dist-packages (from scikit-learn>=0.20.0->category_encoders==2.*) (0.14.1)\n",
            "Requirement already satisfied: pytz>=2017.2 in /usr/local/lib/python3.6/dist-packages (from pandas>=0.21.1->category_encoders==2.*) (2018.9)\n",
            "Requirement already satisfied: python-dateutil>=2.6.1 in /usr/local/lib/python3.6/dist-packages (from pandas>=0.21.1->category_encoders==2.*) (2.6.1)\n",
            "Requirement already satisfied: pandas-profiling==2.* in /usr/local/lib/python3.6/dist-packages (2.4.0)\n",
            "Requirement already satisfied: confuse>=1.0.0 in /usr/local/lib/python3.6/dist-packages (from pandas-profiling==2.*) (1.0.0)\n",
            "Requirement already satisfied: jinja2>=2.8 in /usr/local/lib/python3.6/dist-packages (from pandas-profiling==2.*) (2.11.1)\n",
            "Requirement already satisfied: htmlmin>=0.1.12 in /usr/local/lib/python3.6/dist-packages (from pandas-profiling==2.*) (0.1.12)\n",
            "Requirement already satisfied: matplotlib>=1.4 in /usr/local/lib/python3.6/dist-packages (from pandas-profiling==2.*) (3.1.2)\n",
            "Requirement already satisfied: phik>=0.9.8 in /usr/local/lib/python3.6/dist-packages (from pandas-profiling==2.*) (0.9.9)\n",
            "Requirement already satisfied: astropy in /usr/local/lib/python3.6/dist-packages (from pandas-profiling==2.*) (4.0)\n",
            "Requirement already satisfied: pandas>=0.19 in /usr/local/lib/python3.6/dist-packages (from pandas-profiling==2.*) (0.25.3)\n",
            "Requirement already satisfied: missingno>=0.4.2 in /usr/local/lib/python3.6/dist-packages (from pandas-profiling==2.*) (0.4.2)\n",
            "Requirement already satisfied: pyyaml in /usr/local/lib/python3.6/dist-packages (from confuse>=1.0.0->pandas-profiling==2.*) (3.13)\n",
            "Requirement already satisfied: MarkupSafe>=0.23 in /usr/local/lib/python3.6/dist-packages (from jinja2>=2.8->pandas-profiling==2.*) (1.1.1)\n",
            "Requirement already satisfied: kiwisolver>=1.0.1 in /usr/local/lib/python3.6/dist-packages (from matplotlib>=1.4->pandas-profiling==2.*) (1.1.0)\n",
            "Requirement already satisfied: cycler>=0.10 in /usr/local/lib/python3.6/dist-packages (from matplotlib>=1.4->pandas-profiling==2.*) (0.10.0)\n",
            "Requirement already satisfied: python-dateutil>=2.1 in /usr/local/lib/python3.6/dist-packages (from matplotlib>=1.4->pandas-profiling==2.*) (2.6.1)\n",
            "Requirement already satisfied: pyparsing!=2.0.4,!=2.1.2,!=2.1.6,>=2.0.1 in /usr/local/lib/python3.6/dist-packages (from matplotlib>=1.4->pandas-profiling==2.*) (2.4.6)\n",
            "Requirement already satisfied: numpy>=1.11 in /usr/local/lib/python3.6/dist-packages (from matplotlib>=1.4->pandas-profiling==2.*) (1.17.5)\n",
            "Requirement already satisfied: scipy>=1.1.0 in /usr/local/lib/python3.6/dist-packages (from phik>=0.9.8->pandas-profiling==2.*) (1.4.1)\n",
            "Requirement already satisfied: numba>=0.38.1 in /usr/local/lib/python3.6/dist-packages (from phik>=0.9.8->pandas-profiling==2.*) (0.47.0)\n",
            "Requirement already satisfied: joblib>=0.14.1 in /usr/local/lib/python3.6/dist-packages (from phik>=0.9.8->pandas-profiling==2.*) (0.14.1)\n",
            "Requirement already satisfied: nbconvert>=5.3.1 in /usr/local/lib/python3.6/dist-packages (from phik>=0.9.8->pandas-profiling==2.*) (5.6.1)\n",
            "Requirement already satisfied: pytest-pylint>=0.13.0 in /usr/local/lib/python3.6/dist-packages (from phik>=0.9.8->pandas-profiling==2.*) (0.14.1)\n",
            "Requirement already satisfied: pytest>=4.0.2 in /usr/local/lib/python3.6/dist-packages (from phik>=0.9.8->pandas-profiling==2.*) (5.3.5)\n",
            "Requirement already satisfied: jupyter-client>=5.2.3 in /usr/local/lib/python3.6/dist-packages (from phik>=0.9.8->pandas-profiling==2.*) (5.3.4)\n",
            "Requirement already satisfied: pytz>=2017.2 in /usr/local/lib/python3.6/dist-packages (from pandas>=0.19->pandas-profiling==2.*) (2018.9)\n",
            "Requirement already satisfied: seaborn in /usr/local/lib/python3.6/dist-packages (from missingno>=0.4.2->pandas-profiling==2.*) (0.9.1)\n",
            "Requirement already satisfied: setuptools in /usr/local/lib/python3.6/dist-packages (from kiwisolver>=1.0.1->matplotlib>=1.4->pandas-profiling==2.*) (45.1.0)\n",
            "Requirement already satisfied: six in /usr/local/lib/python3.6/dist-packages (from cycler>=0.10->matplotlib>=1.4->pandas-profiling==2.*) (1.12.0)\n",
            "Requirement already satisfied: llvmlite>=0.31.0dev0 in /usr/local/lib/python3.6/dist-packages (from numba>=0.38.1->phik>=0.9.8->pandas-profiling==2.*) (0.31.0)\n",
            "Requirement already satisfied: mistune<2,>=0.8.1 in /usr/local/lib/python3.6/dist-packages (from nbconvert>=5.3.1->phik>=0.9.8->pandas-profiling==2.*) (0.8.4)\n",
            "Requirement already satisfied: entrypoints>=0.2.2 in /usr/local/lib/python3.6/dist-packages (from nbconvert>=5.3.1->phik>=0.9.8->pandas-profiling==2.*) (0.3)\n",
            "Requirement already satisfied: pandocfilters>=1.4.1 in /usr/local/lib/python3.6/dist-packages (from nbconvert>=5.3.1->phik>=0.9.8->pandas-profiling==2.*) (1.4.2)\n",
            "Requirement already satisfied: pygments in /usr/local/lib/python3.6/dist-packages (from nbconvert>=5.3.1->phik>=0.9.8->pandas-profiling==2.*) (2.1.3)\n",
            "Requirement already satisfied: bleach in /usr/local/lib/python3.6/dist-packages (from nbconvert>=5.3.1->phik>=0.9.8->pandas-profiling==2.*) (3.1.0)\n",
            "Requirement already satisfied: defusedxml in /usr/local/lib/python3.6/dist-packages (from nbconvert>=5.3.1->phik>=0.9.8->pandas-profiling==2.*) (0.6.0)\n",
            "Requirement already satisfied: jupyter-core in /usr/local/lib/python3.6/dist-packages (from nbconvert>=5.3.1->phik>=0.9.8->pandas-profiling==2.*) (4.6.1)\n",
            "Requirement already satisfied: traitlets>=4.2 in /usr/local/lib/python3.6/dist-packages (from nbconvert>=5.3.1->phik>=0.9.8->pandas-profiling==2.*) (4.3.3)\n",
            "Requirement already satisfied: testpath in /usr/local/lib/python3.6/dist-packages (from nbconvert>=5.3.1->phik>=0.9.8->pandas-profiling==2.*) (0.4.4)\n",
            "Requirement already satisfied: nbformat>=4.4 in /usr/local/lib/python3.6/dist-packages (from nbconvert>=5.3.1->phik>=0.9.8->pandas-profiling==2.*) (5.0.4)\n",
            "Requirement already satisfied: pylint>=1.4.5 in /usr/local/lib/python3.6/dist-packages (from pytest-pylint>=0.13.0->phik>=0.9.8->pandas-profiling==2.*) (2.4.4)\n",
            "Requirement already satisfied: py>=1.5.0 in /usr/local/lib/python3.6/dist-packages (from pytest>=4.0.2->phik>=0.9.8->pandas-profiling==2.*) (1.8.1)\n",
            "Requirement already satisfied: wcwidth in /usr/local/lib/python3.6/dist-packages (from pytest>=4.0.2->phik>=0.9.8->pandas-profiling==2.*) (0.1.8)\n",
            "Requirement already satisfied: packaging in /usr/local/lib/python3.6/dist-packages (from pytest>=4.0.2->phik>=0.9.8->pandas-profiling==2.*) (20.1)\n",
            "Requirement already satisfied: importlib-metadata>=0.12; python_version < \"3.8\" in /usr/local/lib/python3.6/dist-packages (from pytest>=4.0.2->phik>=0.9.8->pandas-profiling==2.*) (1.5.0)\n",
            "Requirement already satisfied: pluggy<1.0,>=0.12 in /usr/local/lib/python3.6/dist-packages (from pytest>=4.0.2->phik>=0.9.8->pandas-profiling==2.*) (0.13.1)\n",
            "Requirement already satisfied: more-itertools>=4.0.0 in /usr/local/lib/python3.6/dist-packages (from pytest>=4.0.2->phik>=0.9.8->pandas-profiling==2.*) (8.2.0)\n",
            "Requirement already satisfied: attrs>=17.4.0 in /usr/local/lib/python3.6/dist-packages (from pytest>=4.0.2->phik>=0.9.8->pandas-profiling==2.*) (19.3.0)\n",
            "Requirement already satisfied: tornado>=4.1 in /usr/local/lib/python3.6/dist-packages (from jupyter-client>=5.2.3->phik>=0.9.8->pandas-profiling==2.*) (4.5.3)\n",
            "Requirement already satisfied: pyzmq>=13 in /usr/local/lib/python3.6/dist-packages (from jupyter-client>=5.2.3->phik>=0.9.8->pandas-profiling==2.*) (17.0.0)\n",
            "Requirement already satisfied: webencodings in /usr/local/lib/python3.6/dist-packages (from bleach->nbconvert>=5.3.1->phik>=0.9.8->pandas-profiling==2.*) (0.5.1)\n",
            "Requirement already satisfied: decorator in /usr/local/lib/python3.6/dist-packages (from traitlets>=4.2->nbconvert>=5.3.1->phik>=0.9.8->pandas-profiling==2.*) (4.4.1)\n",
            "Requirement already satisfied: ipython-genutils in /usr/local/lib/python3.6/dist-packages (from traitlets>=4.2->nbconvert>=5.3.1->phik>=0.9.8->pandas-profiling==2.*) (0.2.0)\n",
            "Requirement already satisfied: jsonschema!=2.5.0,>=2.4 in /usr/local/lib/python3.6/dist-packages (from nbformat>=4.4->nbconvert>=5.3.1->phik>=0.9.8->pandas-profiling==2.*) (2.6.0)\n",
            "Requirement already satisfied: astroid<2.4,>=2.3.0 in /usr/local/lib/python3.6/dist-packages (from pylint>=1.4.5->pytest-pylint>=0.13.0->phik>=0.9.8->pandas-profiling==2.*) (2.3.3)\n",
            "Requirement already satisfied: isort<5,>=4.2.5 in /usr/local/lib/python3.6/dist-packages (from pylint>=1.4.5->pytest-pylint>=0.13.0->phik>=0.9.8->pandas-profiling==2.*) (4.3.21)\n",
            "Requirement already satisfied: mccabe<0.7,>=0.6 in /usr/local/lib/python3.6/dist-packages (from pylint>=1.4.5->pytest-pylint>=0.13.0->phik>=0.9.8->pandas-profiling==2.*) (0.6.1)\n",
            "Requirement already satisfied: zipp>=0.5 in /usr/local/lib/python3.6/dist-packages (from importlib-metadata>=0.12; python_version < \"3.8\"->pytest>=4.0.2->phik>=0.9.8->pandas-profiling==2.*) (2.1.0)\n",
            "Requirement already satisfied: wrapt==1.11.* in /usr/local/lib/python3.6/dist-packages (from astroid<2.4,>=2.3.0->pylint>=1.4.5->pytest-pylint>=0.13.0->phik>=0.9.8->pandas-profiling==2.*) (1.11.2)\n",
            "Requirement already satisfied: typed-ast<1.5,>=1.4.0; implementation_name == \"cpython\" and python_version < \"3.8\" in /usr/local/lib/python3.6/dist-packages (from astroid<2.4,>=2.3.0->pylint>=1.4.5->pytest-pylint>=0.13.0->phik>=0.9.8->pandas-profiling==2.*) (1.4.1)\n",
            "Requirement already satisfied: lazy-object-proxy==1.4.* in /usr/local/lib/python3.6/dist-packages (from astroid<2.4,>=2.3.0->pylint>=1.4.5->pytest-pylint>=0.13.0->phik>=0.9.8->pandas-profiling==2.*) (1.4.3)\n"
          ],
          "name": "stdout"
        }
      ]
    },
    {
      "cell_type": "code",
      "metadata": {
        "colab_type": "code",
        "id": "QJBD4ruICm1m",
        "outputId": "68119f7d-85bd-457b-b625-57278f57336d",
        "colab": {
          "base_uri": "https://localhost:8080/",
          "height": 34
        }
      },
      "source": [
        "import pandas as pd\n",
        "import numpy as np\n",
        "from sklearn.metrics import accuracy_score\n",
        "from sklearn.model_selection import train_test_split\n",
        "\n",
        "import category_encoders as ce\n",
        "from sklearn.preprocessing import LabelEncoder, OneHotEncoder\n",
        "from sklearn.impute import SimpleImputer\n",
        "from sklearn.pipeline import make_pipeline\n",
        "from sklearn.preprocessing import StandardScaler\n",
        "\n",
        "from sklearn.tree import DecisionTreeClassifier\n",
        "from sklearn.linear_model import LogisticRegression\n",
        "\n",
        "import graphviz\n",
        "from sklearn.tree import export_graphviz\n",
        "\n",
        "train = pd.merge(pd.read_csv(DATA_PATH+'waterpumps/train_features.csv'), \n",
        "                 pd.read_csv(DATA_PATH+'waterpumps/train_labels.csv'))\n",
        "test = pd.read_csv(DATA_PATH+'waterpumps/test_features.csv')\n",
        "sample_submission = pd.read_csv(DATA_PATH+'waterpumps/sample_submission.csv')\n",
        "\n",
        "# Split the train into train & val \n",
        "\n",
        "train, val = train_test_split(train, train_size= 0.80, test_size = 0.20, \n",
        "                             stratify=train['status_group'], random_state = 42)\n",
        "\n",
        "(train.shape,val.shape)"
      ],
      "execution_count": 0,
      "outputs": [
        {
          "output_type": "execute_result",
          "data": {
            "text/plain": [
              "((47520, 41), (11880, 41))"
            ]
          },
          "metadata": {
            "tags": []
          },
          "execution_count": 2
        }
      ]
    },
    {
      "cell_type": "code",
      "metadata": {
        "id": "eexMiWt7jDPY",
        "colab_type": "code",
        "outputId": "ef34e895-1f9d-4d66-8cbc-1d3ff0909390",
        "colab": {
          "base_uri": "https://localhost:8080/",
          "height": 221
        }
      },
      "source": [
        "sample_submission['status_group']"
      ],
      "execution_count": 0,
      "outputs": [
        {
          "output_type": "execute_result",
          "data": {
            "text/plain": [
              "0        functional\n",
              "1        functional\n",
              "2        functional\n",
              "3        functional\n",
              "4        functional\n",
              "            ...    \n",
              "14353    functional\n",
              "14354    functional\n",
              "14355    functional\n",
              "14356    functional\n",
              "14357    functional\n",
              "Name: status_group, Length: 14358, dtype: object"
            ]
          },
          "metadata": {
            "tags": []
          },
          "execution_count": 3
        }
      ]
    },
    {
      "cell_type": "markdown",
      "metadata": {
        "id": "rI6kw89VfF7A",
        "colab_type": "text"
      },
      "source": [
        "**Wrangle function** "
      ]
    },
    {
      "cell_type": "code",
      "metadata": {
        "id": "f96uMYByiXLb",
        "colab_type": "code",
        "outputId": "19c4b929-148d-4a31-e1d8-7c89b14ad7f5",
        "colab": {
          "base_uri": "https://localhost:8080/",
          "height": 297
        }
      },
      "source": [
        "train[['longitude', 'latitude']].describe()"
      ],
      "execution_count": 0,
      "outputs": [
        {
          "output_type": "execute_result",
          "data": {
            "text/html": [
              "<div>\n",
              "<style scoped>\n",
              "    .dataframe tbody tr th:only-of-type {\n",
              "        vertical-align: middle;\n",
              "    }\n",
              "\n",
              "    .dataframe tbody tr th {\n",
              "        vertical-align: top;\n",
              "    }\n",
              "\n",
              "    .dataframe thead th {\n",
              "        text-align: right;\n",
              "    }\n",
              "</style>\n",
              "<table border=\"1\" class=\"dataframe\">\n",
              "  <thead>\n",
              "    <tr style=\"text-align: right;\">\n",
              "      <th></th>\n",
              "      <th>longitude</th>\n",
              "      <th>latitude</th>\n",
              "    </tr>\n",
              "  </thead>\n",
              "  <tbody>\n",
              "    <tr>\n",
              "      <th>count</th>\n",
              "      <td>47520.000000</td>\n",
              "      <td>4.752000e+04</td>\n",
              "    </tr>\n",
              "    <tr>\n",
              "      <th>mean</th>\n",
              "      <td>34.082431</td>\n",
              "      <td>-5.705946e+00</td>\n",
              "    </tr>\n",
              "    <tr>\n",
              "      <th>std</th>\n",
              "      <td>6.552053</td>\n",
              "      <td>2.941332e+00</td>\n",
              "    </tr>\n",
              "    <tr>\n",
              "      <th>min</th>\n",
              "      <td>0.000000</td>\n",
              "      <td>-1.164944e+01</td>\n",
              "    </tr>\n",
              "    <tr>\n",
              "      <th>25%</th>\n",
              "      <td>33.092142</td>\n",
              "      <td>-8.528215e+00</td>\n",
              "    </tr>\n",
              "    <tr>\n",
              "      <th>50%</th>\n",
              "      <td>34.910740</td>\n",
              "      <td>-5.021436e+00</td>\n",
              "    </tr>\n",
              "    <tr>\n",
              "      <th>75%</th>\n",
              "      <td>37.170578</td>\n",
              "      <td>-3.327185e+00</td>\n",
              "    </tr>\n",
              "    <tr>\n",
              "      <th>max</th>\n",
              "      <td>40.344301</td>\n",
              "      <td>-2.000000e-08</td>\n",
              "    </tr>\n",
              "  </tbody>\n",
              "</table>\n",
              "</div>"
            ],
            "text/plain": [
              "          longitude      latitude\n",
              "count  47520.000000  4.752000e+04\n",
              "mean      34.082431 -5.705946e+00\n",
              "std        6.552053  2.941332e+00\n",
              "min        0.000000 -1.164944e+01\n",
              "25%       33.092142 -8.528215e+00\n",
              "50%       34.910740 -5.021436e+00\n",
              "75%       37.170578 -3.327185e+00\n",
              "max       40.344301 -2.000000e-08"
            ]
          },
          "metadata": {
            "tags": []
          },
          "execution_count": 4
        }
      ]
    },
    {
      "cell_type": "code",
      "metadata": {
        "id": "4l9KkMqTmFUp",
        "colab_type": "code",
        "outputId": "5fa91563-99ba-40b1-e842-5259adb934d5",
        "colab": {
          "base_uri": "https://localhost:8080/",
          "height": 813
        }
      },
      "source": [
        "train"
      ],
      "execution_count": 0,
      "outputs": [
        {
          "output_type": "execute_result",
          "data": {
            "text/html": [
              "<div>\n",
              "<style scoped>\n",
              "    .dataframe tbody tr th:only-of-type {\n",
              "        vertical-align: middle;\n",
              "    }\n",
              "\n",
              "    .dataframe tbody tr th {\n",
              "        vertical-align: top;\n",
              "    }\n",
              "\n",
              "    .dataframe thead th {\n",
              "        text-align: right;\n",
              "    }\n",
              "</style>\n",
              "<table border=\"1\" class=\"dataframe\">\n",
              "  <thead>\n",
              "    <tr style=\"text-align: right;\">\n",
              "      <th></th>\n",
              "      <th>id</th>\n",
              "      <th>amount_tsh</th>\n",
              "      <th>date_recorded</th>\n",
              "      <th>funder</th>\n",
              "      <th>gps_height</th>\n",
              "      <th>installer</th>\n",
              "      <th>longitude</th>\n",
              "      <th>latitude</th>\n",
              "      <th>wpt_name</th>\n",
              "      <th>num_private</th>\n",
              "      <th>basin</th>\n",
              "      <th>subvillage</th>\n",
              "      <th>region</th>\n",
              "      <th>region_code</th>\n",
              "      <th>district_code</th>\n",
              "      <th>lga</th>\n",
              "      <th>ward</th>\n",
              "      <th>population</th>\n",
              "      <th>public_meeting</th>\n",
              "      <th>recorded_by</th>\n",
              "      <th>scheme_management</th>\n",
              "      <th>scheme_name</th>\n",
              "      <th>permit</th>\n",
              "      <th>construction_year</th>\n",
              "      <th>extraction_type</th>\n",
              "      <th>extraction_type_group</th>\n",
              "      <th>extraction_type_class</th>\n",
              "      <th>management</th>\n",
              "      <th>management_group</th>\n",
              "      <th>payment</th>\n",
              "      <th>payment_type</th>\n",
              "      <th>water_quality</th>\n",
              "      <th>quality_group</th>\n",
              "      <th>quantity</th>\n",
              "      <th>quantity_group</th>\n",
              "      <th>source</th>\n",
              "      <th>source_type</th>\n",
              "      <th>source_class</th>\n",
              "      <th>waterpoint_type</th>\n",
              "      <th>waterpoint_type_group</th>\n",
              "      <th>status_group</th>\n",
              "    </tr>\n",
              "  </thead>\n",
              "  <tbody>\n",
              "    <tr>\n",
              "      <th>43360</th>\n",
              "      <td>72938</td>\n",
              "      <td>0.0</td>\n",
              "      <td>2011-07-27</td>\n",
              "      <td>NaN</td>\n",
              "      <td>0</td>\n",
              "      <td>NaN</td>\n",
              "      <td>33.542898</td>\n",
              "      <td>-9.174777</td>\n",
              "      <td>Kwa Mzee Noa</td>\n",
              "      <td>0</td>\n",
              "      <td>Lake Nyasa</td>\n",
              "      <td>Mpandapanda</td>\n",
              "      <td>Mbeya</td>\n",
              "      <td>12</td>\n",
              "      <td>4</td>\n",
              "      <td>Rungwe</td>\n",
              "      <td>Kiwira</td>\n",
              "      <td>0</td>\n",
              "      <td>True</td>\n",
              "      <td>GeoData Consultants Ltd</td>\n",
              "      <td>VWC</td>\n",
              "      <td>K</td>\n",
              "      <td>NaN</td>\n",
              "      <td>0</td>\n",
              "      <td>gravity</td>\n",
              "      <td>gravity</td>\n",
              "      <td>gravity</td>\n",
              "      <td>vwc</td>\n",
              "      <td>user-group</td>\n",
              "      <td>never pay</td>\n",
              "      <td>never pay</td>\n",
              "      <td>soft</td>\n",
              "      <td>good</td>\n",
              "      <td>insufficient</td>\n",
              "      <td>insufficient</td>\n",
              "      <td>spring</td>\n",
              "      <td>spring</td>\n",
              "      <td>groundwater</td>\n",
              "      <td>communal standpipe</td>\n",
              "      <td>communal standpipe</td>\n",
              "      <td>functional</td>\n",
              "    </tr>\n",
              "    <tr>\n",
              "      <th>7263</th>\n",
              "      <td>65358</td>\n",
              "      <td>500.0</td>\n",
              "      <td>2011-03-23</td>\n",
              "      <td>Rc Church</td>\n",
              "      <td>2049</td>\n",
              "      <td>ACRA</td>\n",
              "      <td>34.665760</td>\n",
              "      <td>-9.308548</td>\n",
              "      <td>Kwa Yasinta Ng'Ande</td>\n",
              "      <td>0</td>\n",
              "      <td>Rufiji</td>\n",
              "      <td>Kitichi</td>\n",
              "      <td>Iringa</td>\n",
              "      <td>11</td>\n",
              "      <td>4</td>\n",
              "      <td>Njombe</td>\n",
              "      <td>Imalinyi</td>\n",
              "      <td>175</td>\n",
              "      <td>True</td>\n",
              "      <td>GeoData Consultants Ltd</td>\n",
              "      <td>WUA</td>\n",
              "      <td>Tove Mtwango gravity Scheme</td>\n",
              "      <td>True</td>\n",
              "      <td>2008</td>\n",
              "      <td>gravity</td>\n",
              "      <td>gravity</td>\n",
              "      <td>gravity</td>\n",
              "      <td>wua</td>\n",
              "      <td>user-group</td>\n",
              "      <td>pay monthly</td>\n",
              "      <td>monthly</td>\n",
              "      <td>soft</td>\n",
              "      <td>good</td>\n",
              "      <td>enough</td>\n",
              "      <td>enough</td>\n",
              "      <td>spring</td>\n",
              "      <td>spring</td>\n",
              "      <td>groundwater</td>\n",
              "      <td>communal standpipe</td>\n",
              "      <td>communal standpipe</td>\n",
              "      <td>functional</td>\n",
              "    </tr>\n",
              "    <tr>\n",
              "      <th>2486</th>\n",
              "      <td>469</td>\n",
              "      <td>25.0</td>\n",
              "      <td>2011-03-07</td>\n",
              "      <td>Donor</td>\n",
              "      <td>290</td>\n",
              "      <td>Do</td>\n",
              "      <td>38.238568</td>\n",
              "      <td>-6.179919</td>\n",
              "      <td>Kwasungwini</td>\n",
              "      <td>0</td>\n",
              "      <td>Wami / Ruvu</td>\n",
              "      <td>Kwedigongo</td>\n",
              "      <td>Pwani</td>\n",
              "      <td>6</td>\n",
              "      <td>1</td>\n",
              "      <td>Bagamoyo</td>\n",
              "      <td>Mbwewe</td>\n",
              "      <td>2300</td>\n",
              "      <td>True</td>\n",
              "      <td>GeoData Consultants Ltd</td>\n",
              "      <td>VWC</td>\n",
              "      <td>NaN</td>\n",
              "      <td>False</td>\n",
              "      <td>2010</td>\n",
              "      <td>india mark ii</td>\n",
              "      <td>india mark ii</td>\n",
              "      <td>handpump</td>\n",
              "      <td>vwc</td>\n",
              "      <td>user-group</td>\n",
              "      <td>pay per bucket</td>\n",
              "      <td>per bucket</td>\n",
              "      <td>salty</td>\n",
              "      <td>salty</td>\n",
              "      <td>insufficient</td>\n",
              "      <td>insufficient</td>\n",
              "      <td>shallow well</td>\n",
              "      <td>shallow well</td>\n",
              "      <td>groundwater</td>\n",
              "      <td>hand pump</td>\n",
              "      <td>hand pump</td>\n",
              "      <td>functional</td>\n",
              "    </tr>\n",
              "    <tr>\n",
              "      <th>313</th>\n",
              "      <td>1298</td>\n",
              "      <td>0.0</td>\n",
              "      <td>2011-07-31</td>\n",
              "      <td>Government Of Tanzania</td>\n",
              "      <td>0</td>\n",
              "      <td>DWE</td>\n",
              "      <td>30.716727</td>\n",
              "      <td>-1.289055</td>\n",
              "      <td>Kwajovin 2</td>\n",
              "      <td>0</td>\n",
              "      <td>Lake Victoria</td>\n",
              "      <td>Kihanga</td>\n",
              "      <td>Kagera</td>\n",
              "      <td>18</td>\n",
              "      <td>1</td>\n",
              "      <td>Karagwe</td>\n",
              "      <td>Isingiro</td>\n",
              "      <td>0</td>\n",
              "      <td>True</td>\n",
              "      <td>GeoData Consultants Ltd</td>\n",
              "      <td>NaN</td>\n",
              "      <td>NaN</td>\n",
              "      <td>True</td>\n",
              "      <td>0</td>\n",
              "      <td>other</td>\n",
              "      <td>other</td>\n",
              "      <td>other</td>\n",
              "      <td>vwc</td>\n",
              "      <td>user-group</td>\n",
              "      <td>never pay</td>\n",
              "      <td>never pay</td>\n",
              "      <td>soft</td>\n",
              "      <td>good</td>\n",
              "      <td>enough</td>\n",
              "      <td>enough</td>\n",
              "      <td>shallow well</td>\n",
              "      <td>shallow well</td>\n",
              "      <td>groundwater</td>\n",
              "      <td>other</td>\n",
              "      <td>other</td>\n",
              "      <td>non functional</td>\n",
              "    </tr>\n",
              "    <tr>\n",
              "      <th>52726</th>\n",
              "      <td>27001</td>\n",
              "      <td>0.0</td>\n",
              "      <td>2011-03-10</td>\n",
              "      <td>Water</td>\n",
              "      <td>0</td>\n",
              "      <td>Gove</td>\n",
              "      <td>35.389331</td>\n",
              "      <td>-6.399942</td>\n",
              "      <td>Chama</td>\n",
              "      <td>0</td>\n",
              "      <td>Internal</td>\n",
              "      <td>Mtakuj</td>\n",
              "      <td>Dodoma</td>\n",
              "      <td>1</td>\n",
              "      <td>6</td>\n",
              "      <td>Bahi</td>\n",
              "      <td>Nondwa</td>\n",
              "      <td>0</td>\n",
              "      <td>True</td>\n",
              "      <td>GeoData Consultants Ltd</td>\n",
              "      <td>VWC</td>\n",
              "      <td>Zeje</td>\n",
              "      <td>True</td>\n",
              "      <td>0</td>\n",
              "      <td>mono</td>\n",
              "      <td>mono</td>\n",
              "      <td>motorpump</td>\n",
              "      <td>vwc</td>\n",
              "      <td>user-group</td>\n",
              "      <td>pay per bucket</td>\n",
              "      <td>per bucket</td>\n",
              "      <td>soft</td>\n",
              "      <td>good</td>\n",
              "      <td>enough</td>\n",
              "      <td>enough</td>\n",
              "      <td>machine dbh</td>\n",
              "      <td>borehole</td>\n",
              "      <td>groundwater</td>\n",
              "      <td>communal standpipe</td>\n",
              "      <td>communal standpipe</td>\n",
              "      <td>functional</td>\n",
              "    </tr>\n",
              "    <tr>\n",
              "      <th>...</th>\n",
              "      <td>...</td>\n",
              "      <td>...</td>\n",
              "      <td>...</td>\n",
              "      <td>...</td>\n",
              "      <td>...</td>\n",
              "      <td>...</td>\n",
              "      <td>...</td>\n",
              "      <td>...</td>\n",
              "      <td>...</td>\n",
              "      <td>...</td>\n",
              "      <td>...</td>\n",
              "      <td>...</td>\n",
              "      <td>...</td>\n",
              "      <td>...</td>\n",
              "      <td>...</td>\n",
              "      <td>...</td>\n",
              "      <td>...</td>\n",
              "      <td>...</td>\n",
              "      <td>...</td>\n",
              "      <td>...</td>\n",
              "      <td>...</td>\n",
              "      <td>...</td>\n",
              "      <td>...</td>\n",
              "      <td>...</td>\n",
              "      <td>...</td>\n",
              "      <td>...</td>\n",
              "      <td>...</td>\n",
              "      <td>...</td>\n",
              "      <td>...</td>\n",
              "      <td>...</td>\n",
              "      <td>...</td>\n",
              "      <td>...</td>\n",
              "      <td>...</td>\n",
              "      <td>...</td>\n",
              "      <td>...</td>\n",
              "      <td>...</td>\n",
              "      <td>...</td>\n",
              "      <td>...</td>\n",
              "      <td>...</td>\n",
              "      <td>...</td>\n",
              "      <td>...</td>\n",
              "    </tr>\n",
              "    <tr>\n",
              "      <th>9795</th>\n",
              "      <td>29534</td>\n",
              "      <td>50.0</td>\n",
              "      <td>2011-03-28</td>\n",
              "      <td>Wd And Id</td>\n",
              "      <td>489</td>\n",
              "      <td>WD and ID</td>\n",
              "      <td>38.268574</td>\n",
              "      <td>-5.450254</td>\n",
              "      <td>Kwa Maseko</td>\n",
              "      <td>4</td>\n",
              "      <td>Pangani</td>\n",
              "      <td>Komfungo A</td>\n",
              "      <td>Tanga</td>\n",
              "      <td>4</td>\n",
              "      <td>6</td>\n",
              "      <td>Handeni</td>\n",
              "      <td>Sindeni</td>\n",
              "      <td>1300</td>\n",
              "      <td>True</td>\n",
              "      <td>GeoData Consultants Ltd</td>\n",
              "      <td>VWC</td>\n",
              "      <td>WD and ID</td>\n",
              "      <td>False</td>\n",
              "      <td>2009</td>\n",
              "      <td>submersible</td>\n",
              "      <td>submersible</td>\n",
              "      <td>submersible</td>\n",
              "      <td>vwc</td>\n",
              "      <td>user-group</td>\n",
              "      <td>pay per bucket</td>\n",
              "      <td>per bucket</td>\n",
              "      <td>soft</td>\n",
              "      <td>good</td>\n",
              "      <td>enough</td>\n",
              "      <td>enough</td>\n",
              "      <td>river</td>\n",
              "      <td>river/lake</td>\n",
              "      <td>surface</td>\n",
              "      <td>communal standpipe</td>\n",
              "      <td>communal standpipe</td>\n",
              "      <td>non functional</td>\n",
              "    </tr>\n",
              "    <tr>\n",
              "      <th>58170</th>\n",
              "      <td>20672</td>\n",
              "      <td>0.0</td>\n",
              "      <td>2011-12-07</td>\n",
              "      <td>Danida</td>\n",
              "      <td>0</td>\n",
              "      <td>Central government</td>\n",
              "      <td>33.926294</td>\n",
              "      <td>-9.641293</td>\n",
              "      <td>Kwa Asajile Mwangomale</td>\n",
              "      <td>0</td>\n",
              "      <td>Lake Nyasa</td>\n",
              "      <td>Mpanda</td>\n",
              "      <td>Mbeya</td>\n",
              "      <td>12</td>\n",
              "      <td>3</td>\n",
              "      <td>Kyela</td>\n",
              "      <td>Bujonde</td>\n",
              "      <td>0</td>\n",
              "      <td>True</td>\n",
              "      <td>GeoData Consultants Ltd</td>\n",
              "      <td>VWC</td>\n",
              "      <td>Ngana water supplied scheme</td>\n",
              "      <td>True</td>\n",
              "      <td>0</td>\n",
              "      <td>gravity</td>\n",
              "      <td>gravity</td>\n",
              "      <td>gravity</td>\n",
              "      <td>vwc</td>\n",
              "      <td>user-group</td>\n",
              "      <td>never pay</td>\n",
              "      <td>never pay</td>\n",
              "      <td>soft</td>\n",
              "      <td>good</td>\n",
              "      <td>dry</td>\n",
              "      <td>dry</td>\n",
              "      <td>spring</td>\n",
              "      <td>spring</td>\n",
              "      <td>groundwater</td>\n",
              "      <td>communal standpipe</td>\n",
              "      <td>communal standpipe</td>\n",
              "      <td>non functional</td>\n",
              "    </tr>\n",
              "    <tr>\n",
              "      <th>17191</th>\n",
              "      <td>10282</td>\n",
              "      <td>0.0</td>\n",
              "      <td>2013-02-02</td>\n",
              "      <td>World Bank</td>\n",
              "      <td>599</td>\n",
              "      <td>Nandra Construction</td>\n",
              "      <td>39.262924</td>\n",
              "      <td>-10.768079</td>\n",
              "      <td>Shuleni</td>\n",
              "      <td>0</td>\n",
              "      <td>Ruvuma / Southern Coast</td>\n",
              "      <td>Kilimahewa</td>\n",
              "      <td>Mtwara</td>\n",
              "      <td>90</td>\n",
              "      <td>33</td>\n",
              "      <td>Newala</td>\n",
              "      <td>Mchemo</td>\n",
              "      <td>1</td>\n",
              "      <td>True</td>\n",
              "      <td>GeoData Consultants Ltd</td>\n",
              "      <td>VWC</td>\n",
              "      <td>Malatu Chini</td>\n",
              "      <td>False</td>\n",
              "      <td>2012</td>\n",
              "      <td>submersible</td>\n",
              "      <td>submersible</td>\n",
              "      <td>submersible</td>\n",
              "      <td>vwc</td>\n",
              "      <td>user-group</td>\n",
              "      <td>other</td>\n",
              "      <td>other</td>\n",
              "      <td>soft</td>\n",
              "      <td>good</td>\n",
              "      <td>enough</td>\n",
              "      <td>enough</td>\n",
              "      <td>machine dbh</td>\n",
              "      <td>borehole</td>\n",
              "      <td>groundwater</td>\n",
              "      <td>communal standpipe multiple</td>\n",
              "      <td>communal standpipe</td>\n",
              "      <td>non functional</td>\n",
              "    </tr>\n",
              "    <tr>\n",
              "      <th>8192</th>\n",
              "      <td>64193</td>\n",
              "      <td>30.0</td>\n",
              "      <td>2013-02-07</td>\n",
              "      <td>Finida German Tanzania Govt</td>\n",
              "      <td>426</td>\n",
              "      <td>Finwater</td>\n",
              "      <td>39.348550</td>\n",
              "      <td>-10.642069</td>\n",
              "      <td>Tangini</td>\n",
              "      <td>0</td>\n",
              "      <td>Ruvuma / Southern Coast</td>\n",
              "      <td>Tangini</td>\n",
              "      <td>Mtwara</td>\n",
              "      <td>90</td>\n",
              "      <td>33</td>\n",
              "      <td>Newala</td>\n",
              "      <td>Kitangari</td>\n",
              "      <td>320</td>\n",
              "      <td>True</td>\n",
              "      <td>GeoData Consultants Ltd</td>\n",
              "      <td>VWC</td>\n",
              "      <td>Mitema</td>\n",
              "      <td>False</td>\n",
              "      <td>1988</td>\n",
              "      <td>submersible</td>\n",
              "      <td>submersible</td>\n",
              "      <td>submersible</td>\n",
              "      <td>vwc</td>\n",
              "      <td>user-group</td>\n",
              "      <td>pay per bucket</td>\n",
              "      <td>per bucket</td>\n",
              "      <td>soft</td>\n",
              "      <td>good</td>\n",
              "      <td>insufficient</td>\n",
              "      <td>insufficient</td>\n",
              "      <td>machine dbh</td>\n",
              "      <td>borehole</td>\n",
              "      <td>groundwater</td>\n",
              "      <td>communal standpipe multiple</td>\n",
              "      <td>communal standpipe</td>\n",
              "      <td>functional</td>\n",
              "    </tr>\n",
              "    <tr>\n",
              "      <th>49783</th>\n",
              "      <td>28687</td>\n",
              "      <td>50.0</td>\n",
              "      <td>2011-03-06</td>\n",
              "      <td>Government Of Tanzania</td>\n",
              "      <td>501</td>\n",
              "      <td>RWE</td>\n",
              "      <td>37.562148</td>\n",
              "      <td>-6.888409</td>\n",
              "      <td>Kwa Ndeseme</td>\n",
              "      <td>0</td>\n",
              "      <td>Wami / Ruvu</td>\n",
              "      <td>Masanze</td>\n",
              "      <td>Morogoro</td>\n",
              "      <td>5</td>\n",
              "      <td>6</td>\n",
              "      <td>Mvomero</td>\n",
              "      <td>Mzumbe</td>\n",
              "      <td>90</td>\n",
              "      <td>True</td>\n",
              "      <td>GeoData Consultants Ltd</td>\n",
              "      <td>VWC</td>\n",
              "      <td>Tangeni</td>\n",
              "      <td>True</td>\n",
              "      <td>1982</td>\n",
              "      <td>gravity</td>\n",
              "      <td>gravity</td>\n",
              "      <td>gravity</td>\n",
              "      <td>vwc</td>\n",
              "      <td>user-group</td>\n",
              "      <td>pay per bucket</td>\n",
              "      <td>per bucket</td>\n",
              "      <td>soft</td>\n",
              "      <td>good</td>\n",
              "      <td>enough</td>\n",
              "      <td>enough</td>\n",
              "      <td>river</td>\n",
              "      <td>river/lake</td>\n",
              "      <td>surface</td>\n",
              "      <td>communal standpipe</td>\n",
              "      <td>communal standpipe</td>\n",
              "      <td>functional</td>\n",
              "    </tr>\n",
              "  </tbody>\n",
              "</table>\n",
              "<p>47520 rows × 41 columns</p>\n",
              "</div>"
            ],
            "text/plain": [
              "          id  amount_tsh  ... waterpoint_type_group    status_group\n",
              "43360  72938         0.0  ...    communal standpipe      functional\n",
              "7263   65358       500.0  ...    communal standpipe      functional\n",
              "2486     469        25.0  ...             hand pump      functional\n",
              "313     1298         0.0  ...                 other  non functional\n",
              "52726  27001         0.0  ...    communal standpipe      functional\n",
              "...      ...         ...  ...                   ...             ...\n",
              "9795   29534        50.0  ...    communal standpipe  non functional\n",
              "58170  20672         0.0  ...    communal standpipe  non functional\n",
              "17191  10282         0.0  ...    communal standpipe  non functional\n",
              "8192   64193        30.0  ...    communal standpipe      functional\n",
              "49783  28687        50.0  ...    communal standpipe      functional\n",
              "\n",
              "[47520 rows x 41 columns]"
            ]
          },
          "metadata": {
            "tags": []
          },
          "execution_count": 5
        }
      ]
    },
    {
      "cell_type": "code",
      "metadata": {
        "id": "qvZYD9O-fEvF",
        "colab_type": "code",
        "colab": {}
      },
      "source": [
        "def wrangle(X):\n",
        "\n",
        "  # prevent setting with copy warning\n",
        "  X = X.copy()\n",
        "\n",
        "  # treat latitude values that are near zero like zero\n",
        "  X['latitude'] = (X['latitude'].replace(-2e-08,0))\n",
        "  \n",
        "  # When columns have zeros and shouldn't, they are like null values.\n",
        "  # So we will replace the zeros with nulls, and impute missing value later.\n",
        "  cols_with_zero = ['longitude','latitude']\n",
        "  for col in cols_with_zero:\n",
        "    X[col] = X[col].replace(0, np.nan)\n",
        "  \n",
        "  # quantity & quantity_group are duplicates, so drop one\n",
        "  X = X.drop(columns=['basin','quantity_group','recorded_by','source_type','extraction_type_group','waterpoint_type','region','region_code'])\n",
        "  \n",
        "   #X['Functional'] = (X['status_group'] == 'functional').astype(int)\n",
        "  # return the wrangled dataframe\n",
        "  \n",
        "  return X\n",
        "\n",
        "train = wrangle(train)\n",
        "val = wrangle(val)\n",
        "test = wrangle(test)"
      ],
      "execution_count": 0,
      "outputs": []
    },
    {
      "cell_type": "markdown",
      "metadata": {
        "id": "QNhCVj_5RqC_",
        "colab_type": "text"
      },
      "source": [
        "**Do train/validate/test split with the Tanzania Waterpumps data**"
      ]
    },
    {
      "cell_type": "markdown",
      "metadata": {
        "id": "KLH_WDUpjrLp",
        "colab_type": "text"
      },
      "source": [
        "**Select Features**"
      ]
    },
    {
      "cell_type": "code",
      "metadata": {
        "id": "_kN6J8cNe0NS",
        "colab_type": "code",
        "outputId": "48885d7b-dc84-444b-9c63-f473739ecd25",
        "colab": {
          "base_uri": "https://localhost:8080/",
          "height": 71
        }
      },
      "source": [
        "target = 'status_group'\n",
        "\n",
        "train_features = train.drop(columns = [target, 'id'])\n",
        "\n",
        "#get a list with the numeric features\n",
        "numeric_features = train_features.select_dtypes(include='number').columns.tolist()\n",
        "\n",
        "#get a series with the cardinality of the nonnumeric features\n",
        "cardinality = train_features.select_dtypes(exclude='number').nunique()\n",
        "\n",
        "#get a list of all the categorical features with cardinality of 50 or less\n",
        "categorical_features = cardinality[cardinality <= 15].index.tolist()\n",
        "\n",
        "# Combine the list\n",
        "features = numeric_features + categorical_features\n",
        "print(len(features))\n",
        "print(features)"
      ],
      "execution_count": 0,
      "outputs": [
        {
          "output_type": "stream",
          "text": [
            "22\n",
            "['amount_tsh', 'gps_height', 'longitude', 'latitude', 'num_private', 'district_code', 'population', 'construction_year', 'public_meeting', 'scheme_management', 'permit', 'extraction_type_class', 'management', 'management_group', 'payment', 'payment_type', 'water_quality', 'quality_group', 'quantity', 'source', 'source_class', 'waterpoint_type_group']\n"
          ],
          "name": "stdout"
        }
      ]
    },
    {
      "cell_type": "markdown",
      "metadata": {
        "id": "z9dGa1sPJMCG",
        "colab_type": "text"
      },
      "source": [
        "**Selecting numeric features**"
      ]
    },
    {
      "cell_type": "code",
      "metadata": {
        "id": "Y_yxTEIoeyvt",
        "colab_type": "code",
        "outputId": "c306adbf-1fd2-4d00-a1b5-436ea8c8b996",
        "colab": {
          "base_uri": "https://localhost:8080/",
          "height": 34
        }
      },
      "source": [
        "# Arrange data into X features and y target\n",
        "X_train = train[features]\n",
        "y_train = train[target]\n",
        "X_val = val[features]\n",
        "y_val = val[target]\n",
        "X_test = test[features]\n",
        "\n",
        "\n",
        "\n",
        "\n",
        "print(X_train.shape,y_train.shape,X_val.shape,y_val.shape, X_test.shape)"
      ],
      "execution_count": 0,
      "outputs": [
        {
          "output_type": "stream",
          "text": [
            "(47520, 22) (47520,) (11880, 22) (11880,) (14358, 22)\n"
          ],
          "name": "stdout"
        }
      ]
    },
    {
      "cell_type": "markdown",
      "metadata": {
        "id": "LTQke7hamjfU",
        "colab_type": "text"
      },
      "source": [
        "**Baseline**"
      ]
    },
    {
      "cell_type": "code",
      "metadata": {
        "id": "K0U8TESISZSA",
        "colab_type": "code",
        "outputId": "cd5ab994-70d9-4cc0-f24f-cfdedf87e44b",
        "colab": {
          "base_uri": "https://localhost:8080/",
          "height": 85
        }
      },
      "source": [
        "train['status_group'].value_counts(normalize=True)"
      ],
      "execution_count": 0,
      "outputs": [
        {
          "output_type": "execute_result",
          "data": {
            "text/plain": [
              "functional                 0.543077\n",
              "non functional             0.384238\n",
              "functional needs repair    0.072685\n",
              "Name: status_group, dtype: float64"
            ]
          },
          "metadata": {
            "tags": []
          },
          "execution_count": 11
        }
      ]
    },
    {
      "cell_type": "code",
      "metadata": {
        "id": "Yjlfn0FdnAUI",
        "colab_type": "code",
        "colab": {}
      },
      "source": [
        "# if we guessed majority clsss for every prediction\n",
        "# in this case our majority class is functional water pump\n",
        "majority_class = y_train.mode()[0]\n",
        "y_pred_baseline = [majority_class] * len(y_train)"
      ],
      "execution_count": 0,
      "outputs": []
    },
    {
      "cell_type": "code",
      "metadata": {
        "id": "IXfLP4PlnrJZ",
        "colab_type": "code",
        "outputId": "1d8b9335-b8b5-4df9-d5a1-58e32edeb04c",
        "colab": {
          "base_uri": "https://localhost:8080/",
          "height": 34
        }
      },
      "source": [
        "# what is the baseline accuracy if we guessed majority class for every prediction\n",
        "#test first with our our train set\n",
        "accuracy_score(y_train, y_pred_baseline)"
      ],
      "execution_count": 0,
      "outputs": [
        {
          "output_type": "execute_result",
          "data": {
            "text/plain": [
              "0.5430765993265994"
            ]
          },
          "metadata": {
            "tags": []
          },
          "execution_count": 13
        }
      ]
    },
    {
      "cell_type": "code",
      "metadata": {
        "id": "eJkBp3i6oU1Z",
        "colab_type": "code",
        "outputId": "39007aa7-5968-41d0-950a-6ea961aeab57",
        "colab": {
          "base_uri": "https://localhost:8080/",
          "height": 34
        }
      },
      "source": [
        "#test accuracy score with validation set\n",
        "majority_class = y_val.mode()[0]\n",
        "y_pred_baseline = [majority_class] * len(y_val)\n",
        "accuracy_score(y_val, y_pred_baseline)"
      ],
      "execution_count": 0,
      "outputs": [
        {
          "output_type": "execute_result",
          "data": {
            "text/plain": [
              "0.5430976430976431"
            ]
          },
          "metadata": {
            "tags": []
          },
          "execution_count": 14
        }
      ]
    },
    {
      "cell_type": "code",
      "metadata": {
        "id": "_HpP3PV_psh1",
        "colab_type": "code",
        "outputId": "adb6abc7-112e-4fcf-b3d1-395fd1bd8276",
        "colab": {
          "base_uri": "https://localhost:8080/",
          "height": 51
        }
      },
      "source": [
        "pipeline = make_pipeline(\n",
        "    ce.OneHotEncoder(use_cat_names=True),\n",
        "    SimpleImputer(strategy='median'),\n",
        "    StandardScaler(),\n",
        "    DecisionTreeClassifier(random_state = 42)\n",
        "    )\n",
        "\n",
        "pipeline.fit(X_train, y_train)\n",
        "\n",
        "print('Training Accuracy:', pipeline.score(X_train, y_train))\n",
        "print('Validation Accuracy:', pipeline.score(X_val,y_val))"
      ],
      "execution_count": 0,
      "outputs": [
        {
          "output_type": "stream",
          "text": [
            "Training Accuracy: 0.9946969696969697\n",
            "Validation Accuracy: 0.7558922558922558\n"
          ],
          "name": "stdout"
        }
      ]
    },
    {
      "cell_type": "markdown",
      "metadata": {
        "id": "k29pNgqbrJNi",
        "colab_type": "text"
      },
      "source": [
        "Since the Training score is almost perfect we may be overfitting the data"
      ]
    },
    {
      "cell_type": "markdown",
      "metadata": {
        "id": "Kg8IdWAbrx8m",
        "colab_type": "text"
      },
      "source": [
        "**Plot of Decision tree**"
      ]
    },
    {
      "cell_type": "code",
      "metadata": {
        "id": "jEYLVaQJrbok",
        "colab_type": "code",
        "outputId": "0f5ce2e9-92c6-4d47-89cb-4ef190dae8dd",
        "colab": {
          "base_uri": "https://localhost:8080/",
          "height": 654
        }
      },
      "source": [
        "# DTC = decision tree classifier\n",
        "\n",
        "model = pipeline.named_steps['decisiontreeclassifier']\n",
        "encoder = pipeline.named_steps['onehotencoder']\n",
        "encoded_columns = encoder.transform(X_val).columns\n",
        "\n",
        "dot_data = export_graphviz(model,\n",
        "                           out_file = None,\n",
        "                           max_depth = 3,\n",
        "                           feature_names =encoded_columns,\n",
        "                           class_names=model.classes_,\n",
        "                           impurity=False,\n",
        "                           filled=True,\n",
        "                           proportion=True,\n",
        "                           rounded=True\n",
        "                           )\n",
        "\n",
        "display(graphviz.Source(dot_data))"
      ],
      "execution_count": 0,
      "outputs": [
        {
          "output_type": "display_data",
          "data": {
            "text/plain": [
              "<graphviz.files.Source at 0x7f4796386fd0>"
            ],
            "image/svg+xml": "<?xml version=\"1.0\" encoding=\"UTF-8\" standalone=\"no\"?>\n<!DOCTYPE svg PUBLIC \"-//W3C//DTD SVG 1.1//EN\"\n \"http://www.w3.org/Graphics/SVG/1.1/DTD/svg11.dtd\">\n<!-- Generated by graphviz version 2.40.1 (20161225.0304)\n -->\n<!-- Title: Tree Pages: 1 -->\n<svg width=\"1816pt\" height=\"460pt\"\n viewBox=\"0.00 0.00 1815.50 460.00\" xmlns=\"http://www.w3.org/2000/svg\" xmlns:xlink=\"http://www.w3.org/1999/xlink\">\n<g id=\"graph0\" class=\"graph\" transform=\"scale(1 1) rotate(0) translate(4 456)\">\n<title>Tree</title>\n<polygon fill=\"#ffffff\" stroke=\"transparent\" points=\"-4,4 -4,-456 1811.5,-456 1811.5,4 -4,4\"/>\n<!-- 0 -->\n<g id=\"node1\" class=\"node\">\n<title>0</title>\n<path fill=\"#f8decc\" stroke=\"#000000\" d=\"M1018.5,-452C1018.5,-452 842.5,-452 842.5,-452 836.5,-452 830.5,-446 830.5,-440 830.5,-440 830.5,-396 830.5,-396 830.5,-390 836.5,-384 842.5,-384 842.5,-384 1018.5,-384 1018.5,-384 1024.5,-384 1030.5,-390 1030.5,-396 1030.5,-396 1030.5,-440 1030.5,-440 1030.5,-446 1024.5,-452 1018.5,-452\"/>\n<text text-anchor=\"middle\" x=\"930.5\" y=\"-436.8\" font-family=\"Helvetica,sans-Serif\" font-size=\"14.00\" fill=\"#000000\">quantity_dry &lt;= 1.301</text>\n<text text-anchor=\"middle\" x=\"930.5\" y=\"-421.8\" font-family=\"Helvetica,sans-Serif\" font-size=\"14.00\" fill=\"#000000\">samples = 100.0%</text>\n<text text-anchor=\"middle\" x=\"930.5\" y=\"-406.8\" font-family=\"Helvetica,sans-Serif\" font-size=\"14.00\" fill=\"#000000\">value = [0.543, 0.073, 0.384]</text>\n<text text-anchor=\"middle\" x=\"930.5\" y=\"-391.8\" font-family=\"Helvetica,sans-Serif\" font-size=\"14.00\" fill=\"#000000\">class = functional</text>\n</g>\n<!-- 1 -->\n<g id=\"node2\" class=\"node\">\n<title>1</title>\n<path fill=\"#f4caac\" stroke=\"#000000\" d=\"M847,-348C847,-348 604,-348 604,-348 598,-348 592,-342 592,-336 592,-336 592,-292 592,-292 592,-286 598,-280 604,-280 604,-280 847,-280 847,-280 853,-280 859,-286 859,-292 859,-292 859,-336 859,-336 859,-342 853,-348 847,-348\"/>\n<text text-anchor=\"middle\" x=\"725.5\" y=\"-332.8\" font-family=\"Helvetica,sans-Serif\" font-size=\"14.00\" fill=\"#000000\">waterpoint_type_group_other &lt;= 1.262</text>\n<text text-anchor=\"middle\" x=\"725.5\" y=\"-317.8\" font-family=\"Helvetica,sans-Serif\" font-size=\"14.00\" fill=\"#000000\">samples = 89.6%</text>\n<text text-anchor=\"middle\" x=\"725.5\" y=\"-302.8\" font-family=\"Helvetica,sans-Serif\" font-size=\"14.00\" fill=\"#000000\">value = [0.603, 0.08, 0.317]</text>\n<text text-anchor=\"middle\" x=\"725.5\" y=\"-287.8\" font-family=\"Helvetica,sans-Serif\" font-size=\"14.00\" fill=\"#000000\">class = functional</text>\n</g>\n<!-- 0&#45;&gt;1 -->\n<g id=\"edge1\" class=\"edge\">\n<title>0&#45;&gt;1</title>\n<path fill=\"none\" stroke=\"#000000\" d=\"M863.3753,-383.9465C843.7305,-373.9803 822.1096,-363.0117 801.9323,-352.7754\"/>\n<polygon fill=\"#000000\" stroke=\"#000000\" points=\"803.277,-349.533 792.7755,-348.13 800.11,-355.7756 803.277,-349.533\"/>\n<text text-anchor=\"middle\" x=\"800.5426\" y=\"-368.1928\" font-family=\"Helvetica,sans-Serif\" font-size=\"14.00\" fill=\"#000000\">True</text>\n</g>\n<!-- 18202 -->\n<g id=\"node17\" class=\"node\">\n<title>18202</title>\n<path fill=\"#8540e6\" stroke=\"#000000\" d=\"M1323,-348C1323,-348 1048,-348 1048,-348 1042,-348 1036,-342 1036,-336 1036,-336 1036,-292 1036,-292 1036,-286 1042,-280 1048,-280 1048,-280 1323,-280 1323,-280 1329,-280 1335,-286 1335,-292 1335,-292 1335,-336 1335,-336 1335,-342 1329,-348 1323,-348\"/>\n<text text-anchor=\"middle\" x=\"1185.5\" y=\"-332.8\" font-family=\"Helvetica,sans-Serif\" font-size=\"14.00\" fill=\"#000000\">waterpoint_type_group_hand pump &lt;= 0.45</text>\n<text text-anchor=\"middle\" x=\"1185.5\" y=\"-317.8\" font-family=\"Helvetica,sans-Serif\" font-size=\"14.00\" fill=\"#000000\">samples = 10.4%</text>\n<text text-anchor=\"middle\" x=\"1185.5\" y=\"-302.8\" font-family=\"Helvetica,sans-Serif\" font-size=\"14.00\" fill=\"#000000\">value = [0.026, 0.006, 0.968]</text>\n<text text-anchor=\"middle\" x=\"1185.5\" y=\"-287.8\" font-family=\"Helvetica,sans-Serif\" font-size=\"14.00\" fill=\"#000000\">class = non functional</text>\n</g>\n<!-- 0&#45;&gt;18202 -->\n<g id=\"edge16\" class=\"edge\">\n<title>0&#45;&gt;18202</title>\n<path fill=\"none\" stroke=\"#000000\" d=\"M1013.9965,-383.9465C1039.0933,-373.711 1066.7826,-362.4181 1092.4567,-351.9471\"/>\n<polygon fill=\"#000000\" stroke=\"#000000\" points=\"1093.8781,-355.1473 1101.8159,-348.13 1091.2346,-348.6657 1093.8781,-355.1473\"/>\n<text text-anchor=\"middle\" x=\"1092.1231\" y=\"-367.4745\" font-family=\"Helvetica,sans-Serif\" font-size=\"14.00\" fill=\"#000000\">False</text>\n</g>\n<!-- 2 -->\n<g id=\"node3\" class=\"node\">\n<title>2</title>\n<path fill=\"#f1bd98\" stroke=\"#000000\" d=\"M511.5,-244C511.5,-244 335.5,-244 335.5,-244 329.5,-244 323.5,-238 323.5,-232 323.5,-232 323.5,-188 323.5,-188 323.5,-182 329.5,-176 335.5,-176 335.5,-176 511.5,-176 511.5,-176 517.5,-176 523.5,-182 523.5,-188 523.5,-188 523.5,-232 523.5,-232 523.5,-238 517.5,-244 511.5,-244\"/>\n<text text-anchor=\"middle\" x=\"423.5\" y=\"-228.8\" font-family=\"Helvetica,sans-Serif\" font-size=\"14.00\" fill=\"#000000\">amount_tsh &lt;= &#45;0.1</text>\n<text text-anchor=\"middle\" x=\"423.5\" y=\"-213.8\" font-family=\"Helvetica,sans-Serif\" font-size=\"14.00\" fill=\"#000000\">samples = 81.1%</text>\n<text text-anchor=\"middle\" x=\"423.5\" y=\"-198.8\" font-family=\"Helvetica,sans-Serif\" font-size=\"14.00\" fill=\"#000000\">value = [0.649, 0.083, 0.268]</text>\n<text text-anchor=\"middle\" x=\"423.5\" y=\"-183.8\" font-family=\"Helvetica,sans-Serif\" font-size=\"14.00\" fill=\"#000000\">class = functional</text>\n</g>\n<!-- 1&#45;&gt;2 -->\n<g id=\"edge2\" class=\"edge\">\n<title>1&#45;&gt;2</title>\n<path fill=\"none\" stroke=\"#000000\" d=\"M626.6139,-279.9465C596.2921,-269.5046 562.7747,-257.9622 531.8558,-247.3146\"/>\n<polygon fill=\"#000000\" stroke=\"#000000\" points=\"532.9449,-243.988 522.3502,-244.0411 530.6656,-250.6065 532.9449,-243.988\"/>\n</g>\n<!-- 17029 -->\n<g id=\"node10\" class=\"node\">\n<title>17029</title>\n<path fill=\"#a26dec\" stroke=\"#000000\" d=\"M843.5,-244C843.5,-244 607.5,-244 607.5,-244 601.5,-244 595.5,-238 595.5,-232 595.5,-232 595.5,-188 595.5,-188 595.5,-182 601.5,-176 607.5,-176 607.5,-176 843.5,-176 843.5,-176 849.5,-176 855.5,-182 855.5,-188 855.5,-188 855.5,-232 855.5,-232 855.5,-238 849.5,-244 843.5,-244\"/>\n<text text-anchor=\"middle\" x=\"725.5\" y=\"-228.8\" font-family=\"Helvetica,sans-Serif\" font-size=\"14.00\" fill=\"#000000\">extraction_type_class_other &lt;= 1.252</text>\n<text text-anchor=\"middle\" x=\"725.5\" y=\"-213.8\" font-family=\"Helvetica,sans-Serif\" font-size=\"14.00\" fill=\"#000000\">samples = 8.5%</text>\n<text text-anchor=\"middle\" x=\"725.5\" y=\"-198.8\" font-family=\"Helvetica,sans-Serif\" font-size=\"14.00\" fill=\"#000000\">value = [0.162, 0.057, 0.781]</text>\n<text text-anchor=\"middle\" x=\"725.5\" y=\"-183.8\" font-family=\"Helvetica,sans-Serif\" font-size=\"14.00\" fill=\"#000000\">class = non functional</text>\n</g>\n<!-- 1&#45;&gt;17029 -->\n<g id=\"edge9\" class=\"edge\">\n<title>1&#45;&gt;17029</title>\n<path fill=\"none\" stroke=\"#000000\" d=\"M725.5,-279.9465C725.5,-271.776 725.5,-262.9318 725.5,-254.3697\"/>\n<polygon fill=\"#000000\" stroke=\"#000000\" points=\"729.0001,-254.13 725.5,-244.13 722.0001,-254.13 729.0001,-254.13\"/>\n</g>\n<!-- 3 -->\n<g id=\"node4\" class=\"node\">\n<title>3</title>\n<path fill=\"#f4ccaf\" stroke=\"#000000\" d=\"M293,-140C293,-140 12,-140 12,-140 6,-140 0,-134 0,-128 0,-128 0,-84 0,-84 0,-78 6,-72 12,-72 12,-72 293,-72 293,-72 299,-72 305,-78 305,-84 305,-84 305,-128 305,-128 305,-134 299,-140 293,-140\"/>\n<text text-anchor=\"middle\" x=\"152.5\" y=\"-124.8\" font-family=\"Helvetica,sans-Serif\" font-size=\"14.00\" fill=\"#000000\">extraction_type_class_submersible &lt;= 1.306</text>\n<text text-anchor=\"middle\" x=\"152.5\" y=\"-109.8\" font-family=\"Helvetica,sans-Serif\" font-size=\"14.00\" fill=\"#000000\">samples = 53.2%</text>\n<text text-anchor=\"middle\" x=\"152.5\" y=\"-94.8\" font-family=\"Helvetica,sans-Serif\" font-size=\"14.00\" fill=\"#000000\">value = [0.594, 0.086, 0.319]</text>\n<text text-anchor=\"middle\" x=\"152.5\" y=\"-79.8\" font-family=\"Helvetica,sans-Serif\" font-size=\"14.00\" fill=\"#000000\">class = functional</text>\n</g>\n<!-- 2&#45;&gt;3 -->\n<g id=\"edge3\" class=\"edge\">\n<title>2&#45;&gt;3</title>\n<path fill=\"none\" stroke=\"#000000\" d=\"M334.7645,-175.9465C307.9761,-165.6661 278.4081,-154.319 251.0224,-143.8093\"/>\n<polygon fill=\"#000000\" stroke=\"#000000\" points=\"252.025,-140.4453 241.4349,-140.13 249.517,-146.9806 252.025,-140.4453\"/>\n</g>\n<!-- 11998 -->\n<g id=\"node7\" class=\"node\">\n<title>11998</title>\n<path fill=\"#eda774\" stroke=\"#000000\" d=\"M511.5,-140C511.5,-140 335.5,-140 335.5,-140 329.5,-140 323.5,-134 323.5,-128 323.5,-128 323.5,-84 323.5,-84 323.5,-78 329.5,-72 335.5,-72 335.5,-72 511.5,-72 511.5,-72 517.5,-72 523.5,-78 523.5,-84 523.5,-84 523.5,-128 523.5,-128 523.5,-134 517.5,-140 511.5,-140\"/>\n<text text-anchor=\"middle\" x=\"423.5\" y=\"-124.8\" font-family=\"Helvetica,sans-Serif\" font-size=\"14.00\" fill=\"#000000\">longitude &lt;= &#45;1.753</text>\n<text text-anchor=\"middle\" x=\"423.5\" y=\"-109.8\" font-family=\"Helvetica,sans-Serif\" font-size=\"14.00\" fill=\"#000000\">samples = 28.0%</text>\n<text text-anchor=\"middle\" x=\"423.5\" y=\"-94.8\" font-family=\"Helvetica,sans-Serif\" font-size=\"14.00\" fill=\"#000000\">value = [0.753, 0.076, 0.171]</text>\n<text text-anchor=\"middle\" x=\"423.5\" y=\"-79.8\" font-family=\"Helvetica,sans-Serif\" font-size=\"14.00\" fill=\"#000000\">class = functional</text>\n</g>\n<!-- 2&#45;&gt;11998 -->\n<g id=\"edge6\" class=\"edge\">\n<title>2&#45;&gt;11998</title>\n<path fill=\"none\" stroke=\"#000000\" d=\"M423.5,-175.9465C423.5,-167.776 423.5,-158.9318 423.5,-150.3697\"/>\n<polygon fill=\"#000000\" stroke=\"#000000\" points=\"427.0001,-150.13 423.5,-140.13 420.0001,-150.13 427.0001,-150.13\"/>\n</g>\n<!-- 4 -->\n<g id=\"node5\" class=\"node\">\n<title>4</title>\n<path fill=\"#c0c0c0\" stroke=\"#000000\" d=\"M131.5,-36C131.5,-36 101.5,-36 101.5,-36 95.5,-36 89.5,-30 89.5,-24 89.5,-24 89.5,-12 89.5,-12 89.5,-6 95.5,0 101.5,0 101.5,0 131.5,0 131.5,0 137.5,0 143.5,-6 143.5,-12 143.5,-12 143.5,-24 143.5,-24 143.5,-30 137.5,-36 131.5,-36\"/>\n<text text-anchor=\"middle\" x=\"116.5\" y=\"-14.3\" font-family=\"Helvetica,sans-Serif\" font-size=\"14.00\" fill=\"#000000\">(...)</text>\n</g>\n<!-- 3&#45;&gt;4 -->\n<g id=\"edge4\" class=\"edge\">\n<title>3&#45;&gt;4</title>\n<path fill=\"none\" stroke=\"#000000\" d=\"M138.5815,-71.9769C134.9977,-63.2167 131.1862,-53.8995 127.7564,-45.5157\"/>\n<polygon fill=\"#000000\" stroke=\"#000000\" points=\"130.968,-44.1222 123.9422,-36.192 124.4891,-46.7727 130.968,-44.1222\"/>\n</g>\n<!-- 11413 -->\n<g id=\"node6\" class=\"node\">\n<title>11413</title>\n<path fill=\"#c0c0c0\" stroke=\"#000000\" d=\"M203.5,-36C203.5,-36 173.5,-36 173.5,-36 167.5,-36 161.5,-30 161.5,-24 161.5,-24 161.5,-12 161.5,-12 161.5,-6 167.5,0 173.5,0 173.5,0 203.5,0 203.5,0 209.5,0 215.5,-6 215.5,-12 215.5,-12 215.5,-24 215.5,-24 215.5,-30 209.5,-36 203.5,-36\"/>\n<text text-anchor=\"middle\" x=\"188.5\" y=\"-14.3\" font-family=\"Helvetica,sans-Serif\" font-size=\"14.00\" fill=\"#000000\">(...)</text>\n</g>\n<!-- 3&#45;&gt;11413 -->\n<g id=\"edge5\" class=\"edge\">\n<title>3&#45;&gt;11413</title>\n<path fill=\"none\" stroke=\"#000000\" d=\"M166.4185,-71.9769C170.0023,-63.2167 173.8138,-53.8995 177.2436,-45.5157\"/>\n<polygon fill=\"#000000\" stroke=\"#000000\" points=\"180.5109,-46.7727 181.0578,-36.192 174.032,-44.1222 180.5109,-46.7727\"/>\n</g>\n<!-- 11999 -->\n<g id=\"node8\" class=\"node\">\n<title>11999</title>\n<path fill=\"#c0c0c0\" stroke=\"#000000\" d=\"M402.5,-36C402.5,-36 372.5,-36 372.5,-36 366.5,-36 360.5,-30 360.5,-24 360.5,-24 360.5,-12 360.5,-12 360.5,-6 366.5,0 372.5,0 372.5,0 402.5,0 402.5,0 408.5,0 414.5,-6 414.5,-12 414.5,-12 414.5,-24 414.5,-24 414.5,-30 408.5,-36 402.5,-36\"/>\n<text text-anchor=\"middle\" x=\"387.5\" y=\"-14.3\" font-family=\"Helvetica,sans-Serif\" font-size=\"14.00\" fill=\"#000000\">(...)</text>\n</g>\n<!-- 11998&#45;&gt;11999 -->\n<g id=\"edge7\" class=\"edge\">\n<title>11998&#45;&gt;11999</title>\n<path fill=\"none\" stroke=\"#000000\" d=\"M409.5815,-71.9769C405.9977,-63.2167 402.1862,-53.8995 398.7564,-45.5157\"/>\n<polygon fill=\"#000000\" stroke=\"#000000\" points=\"401.968,-44.1222 394.9422,-36.192 395.4891,-46.7727 401.968,-44.1222\"/>\n</g>\n<!-- 12822 -->\n<g id=\"node9\" class=\"node\">\n<title>12822</title>\n<path fill=\"#c0c0c0\" stroke=\"#000000\" d=\"M474.5,-36C474.5,-36 444.5,-36 444.5,-36 438.5,-36 432.5,-30 432.5,-24 432.5,-24 432.5,-12 432.5,-12 432.5,-6 438.5,0 444.5,0 444.5,0 474.5,0 474.5,0 480.5,0 486.5,-6 486.5,-12 486.5,-12 486.5,-24 486.5,-24 486.5,-30 480.5,-36 474.5,-36\"/>\n<text text-anchor=\"middle\" x=\"459.5\" y=\"-14.3\" font-family=\"Helvetica,sans-Serif\" font-size=\"14.00\" fill=\"#000000\">(...)</text>\n</g>\n<!-- 11998&#45;&gt;12822 -->\n<g id=\"edge8\" class=\"edge\">\n<title>11998&#45;&gt;12822</title>\n<path fill=\"none\" stroke=\"#000000\" d=\"M437.4185,-71.9769C441.0023,-63.2167 444.8138,-53.8995 448.2436,-45.5157\"/>\n<polygon fill=\"#000000\" stroke=\"#000000\" points=\"451.5109,-46.7727 452.0578,-36.192 445.032,-44.1222 451.5109,-46.7727\"/>\n</g>\n<!-- 17030 -->\n<g id=\"node11\" class=\"node\">\n<title>17030</title>\n<path fill=\"#c9aaf4\" stroke=\"#000000\" d=\"M729.5,-140C729.5,-140 553.5,-140 553.5,-140 547.5,-140 541.5,-134 541.5,-128 541.5,-128 541.5,-84 541.5,-84 541.5,-78 547.5,-72 553.5,-72 553.5,-72 729.5,-72 729.5,-72 735.5,-72 741.5,-78 741.5,-84 741.5,-84 741.5,-128 741.5,-128 741.5,-134 735.5,-140 729.5,-140\"/>\n<text text-anchor=\"middle\" x=\"641.5\" y=\"-124.8\" font-family=\"Helvetica,sans-Serif\" font-size=\"14.00\" fill=\"#000000\">latitude &lt;= 0.975</text>\n<text text-anchor=\"middle\" x=\"641.5\" y=\"-109.8\" font-family=\"Helvetica,sans-Serif\" font-size=\"14.00\" fill=\"#000000\">samples = 2.4%</text>\n<text text-anchor=\"middle\" x=\"641.5\" y=\"-94.8\" font-family=\"Helvetica,sans-Serif\" font-size=\"14.00\" fill=\"#000000\">value = [0.288, 0.119, 0.593]</text>\n<text text-anchor=\"middle\" x=\"641.5\" y=\"-79.8\" font-family=\"Helvetica,sans-Serif\" font-size=\"14.00\" fill=\"#000000\">class = non functional</text>\n</g>\n<!-- 17029&#45;&gt;17030 -->\n<g id=\"edge10\" class=\"edge\">\n<title>17029&#45;&gt;17030</title>\n<path fill=\"none\" stroke=\"#000000\" d=\"M697.9953,-175.9465C690.8159,-167.0578 682.9924,-157.3716 675.519,-148.1188\"/>\n<polygon fill=\"#000000\" stroke=\"#000000\" points=\"678.0727,-145.7102 669.0665,-140.13 672.6271,-150.1086 678.0727,-145.7102\"/>\n</g>\n<!-- 17493 -->\n<g id=\"node14\" class=\"node\">\n<title>17493</title>\n<path fill=\"#965ae9\" stroke=\"#000000\" d=\"M947.5,-140C947.5,-140 771.5,-140 771.5,-140 765.5,-140 759.5,-134 759.5,-128 759.5,-128 759.5,-84 759.5,-84 759.5,-78 765.5,-72 771.5,-72 771.5,-72 947.5,-72 947.5,-72 953.5,-72 959.5,-78 959.5,-84 959.5,-84 959.5,-128 959.5,-128 959.5,-134 953.5,-140 947.5,-140\"/>\n<text text-anchor=\"middle\" x=\"859.5\" y=\"-124.8\" font-family=\"Helvetica,sans-Serif\" font-size=\"14.00\" fill=\"#000000\">quality_group_milky &lt;= 4.16</text>\n<text text-anchor=\"middle\" x=\"859.5\" y=\"-109.8\" font-family=\"Helvetica,sans-Serif\" font-size=\"14.00\" fill=\"#000000\">samples = 6.1%</text>\n<text text-anchor=\"middle\" x=\"859.5\" y=\"-94.8\" font-family=\"Helvetica,sans-Serif\" font-size=\"14.00\" fill=\"#000000\">value = [0.113, 0.033, 0.854]</text>\n<text text-anchor=\"middle\" x=\"859.5\" y=\"-79.8\" font-family=\"Helvetica,sans-Serif\" font-size=\"14.00\" fill=\"#000000\">class = non functional</text>\n</g>\n<!-- 17029&#45;&gt;17493 -->\n<g id=\"edge13\" class=\"edge\">\n<title>17029&#45;&gt;17493</title>\n<path fill=\"none\" stroke=\"#000000\" d=\"M769.3766,-175.9465C781.5235,-166.519 794.8262,-156.1946 807.3927,-146.4415\"/>\n<polygon fill=\"#000000\" stroke=\"#000000\" points=\"809.7709,-149.0262 815.5248,-140.13 805.479,-143.4963 809.7709,-149.0262\"/>\n</g>\n<!-- 17031 -->\n<g id=\"node12\" class=\"node\">\n<title>17031</title>\n<path fill=\"#c0c0c0\" stroke=\"#000000\" d=\"M620.5,-36C620.5,-36 590.5,-36 590.5,-36 584.5,-36 578.5,-30 578.5,-24 578.5,-24 578.5,-12 578.5,-12 578.5,-6 584.5,0 590.5,0 590.5,0 620.5,0 620.5,0 626.5,0 632.5,-6 632.5,-12 632.5,-12 632.5,-24 632.5,-24 632.5,-30 626.5,-36 620.5,-36\"/>\n<text text-anchor=\"middle\" x=\"605.5\" y=\"-14.3\" font-family=\"Helvetica,sans-Serif\" font-size=\"14.00\" fill=\"#000000\">(...)</text>\n</g>\n<!-- 17030&#45;&gt;17031 -->\n<g id=\"edge11\" class=\"edge\">\n<title>17030&#45;&gt;17031</title>\n<path fill=\"none\" stroke=\"#000000\" d=\"M627.5815,-71.9769C623.9977,-63.2167 620.1862,-53.8995 616.7564,-45.5157\"/>\n<polygon fill=\"#000000\" stroke=\"#000000\" points=\"619.968,-44.1222 612.9422,-36.192 613.4891,-46.7727 619.968,-44.1222\"/>\n</g>\n<!-- 17390 -->\n<g id=\"node13\" class=\"node\">\n<title>17390</title>\n<path fill=\"#c0c0c0\" stroke=\"#000000\" d=\"M692.5,-36C692.5,-36 662.5,-36 662.5,-36 656.5,-36 650.5,-30 650.5,-24 650.5,-24 650.5,-12 650.5,-12 650.5,-6 656.5,0 662.5,0 662.5,0 692.5,0 692.5,0 698.5,0 704.5,-6 704.5,-12 704.5,-12 704.5,-24 704.5,-24 704.5,-30 698.5,-36 692.5,-36\"/>\n<text text-anchor=\"middle\" x=\"677.5\" y=\"-14.3\" font-family=\"Helvetica,sans-Serif\" font-size=\"14.00\" fill=\"#000000\">(...)</text>\n</g>\n<!-- 17030&#45;&gt;17390 -->\n<g id=\"edge12\" class=\"edge\">\n<title>17030&#45;&gt;17390</title>\n<path fill=\"none\" stroke=\"#000000\" d=\"M655.4185,-71.9769C659.0023,-63.2167 662.8138,-53.8995 666.2436,-45.5157\"/>\n<polygon fill=\"#000000\" stroke=\"#000000\" points=\"669.5109,-46.7727 670.0578,-36.192 663.032,-44.1222 669.5109,-46.7727\"/>\n</g>\n<!-- 17494 -->\n<g id=\"node15\" class=\"node\">\n<title>17494</title>\n<path fill=\"#c0c0c0\" stroke=\"#000000\" d=\"M838.5,-36C838.5,-36 808.5,-36 808.5,-36 802.5,-36 796.5,-30 796.5,-24 796.5,-24 796.5,-12 796.5,-12 796.5,-6 802.5,0 808.5,0 808.5,0 838.5,0 838.5,0 844.5,0 850.5,-6 850.5,-12 850.5,-12 850.5,-24 850.5,-24 850.5,-30 844.5,-36 838.5,-36\"/>\n<text text-anchor=\"middle\" x=\"823.5\" y=\"-14.3\" font-family=\"Helvetica,sans-Serif\" font-size=\"14.00\" fill=\"#000000\">(...)</text>\n</g>\n<!-- 17493&#45;&gt;17494 -->\n<g id=\"edge14\" class=\"edge\">\n<title>17493&#45;&gt;17494</title>\n<path fill=\"none\" stroke=\"#000000\" d=\"M845.5815,-71.9769C841.9977,-63.2167 838.1862,-53.8995 834.7564,-45.5157\"/>\n<polygon fill=\"#000000\" stroke=\"#000000\" points=\"837.968,-44.1222 830.9422,-36.192 831.4891,-46.7727 837.968,-44.1222\"/>\n</g>\n<!-- 18081 -->\n<g id=\"node16\" class=\"node\">\n<title>18081</title>\n<path fill=\"#c0c0c0\" stroke=\"#000000\" d=\"M910.5,-36C910.5,-36 880.5,-36 880.5,-36 874.5,-36 868.5,-30 868.5,-24 868.5,-24 868.5,-12 868.5,-12 868.5,-6 874.5,0 880.5,0 880.5,0 910.5,0 910.5,0 916.5,0 922.5,-6 922.5,-12 922.5,-12 922.5,-24 922.5,-24 922.5,-30 916.5,-36 910.5,-36\"/>\n<text text-anchor=\"middle\" x=\"895.5\" y=\"-14.3\" font-family=\"Helvetica,sans-Serif\" font-size=\"14.00\" fill=\"#000000\">(...)</text>\n</g>\n<!-- 17493&#45;&gt;18081 -->\n<g id=\"edge15\" class=\"edge\">\n<title>17493&#45;&gt;18081</title>\n<path fill=\"none\" stroke=\"#000000\" d=\"M873.4185,-71.9769C877.0023,-63.2167 880.8138,-53.8995 884.2436,-45.5157\"/>\n<polygon fill=\"#000000\" stroke=\"#000000\" points=\"887.5109,-46.7727 888.0578,-36.192 881.032,-44.1222 887.5109,-46.7727\"/>\n</g>\n<!-- 18203 -->\n<g id=\"node18\" class=\"node\">\n<title>18203</title>\n<path fill=\"#843de6\" stroke=\"#000000\" d=\"M1270,-244C1270,-244 1101,-244 1101,-244 1095,-244 1089,-238 1089,-232 1089,-232 1089,-188 1089,-188 1089,-182 1095,-176 1101,-176 1101,-176 1270,-176 1270,-176 1276,-176 1282,-182 1282,-188 1282,-188 1282,-232 1282,-232 1282,-238 1276,-244 1270,-244\"/>\n<text text-anchor=\"middle\" x=\"1185.5\" y=\"-228.8\" font-family=\"Helvetica,sans-Serif\" font-size=\"14.00\" fill=\"#000000\">construction_year &lt;= 0.745</text>\n<text text-anchor=\"middle\" x=\"1185.5\" y=\"-213.8\" font-family=\"Helvetica,sans-Serif\" font-size=\"14.00\" fill=\"#000000\">samples = 8.3%</text>\n<text text-anchor=\"middle\" x=\"1185.5\" y=\"-198.8\" font-family=\"Helvetica,sans-Serif\" font-size=\"14.00\" fill=\"#000000\">value = [0.014, 0.006, 0.98]</text>\n<text text-anchor=\"middle\" x=\"1185.5\" y=\"-183.8\" font-family=\"Helvetica,sans-Serif\" font-size=\"14.00\" fill=\"#000000\">class = non functional</text>\n</g>\n<!-- 18202&#45;&gt;18203 -->\n<g id=\"edge17\" class=\"edge\">\n<title>18202&#45;&gt;18203</title>\n<path fill=\"none\" stroke=\"#000000\" d=\"M1185.5,-279.9465C1185.5,-271.776 1185.5,-262.9318 1185.5,-254.3697\"/>\n<polygon fill=\"#000000\" stroke=\"#000000\" points=\"1189.0001,-254.13 1185.5,-244.13 1182.0001,-254.13 1189.0001,-254.13\"/>\n</g>\n<!-- 18436 -->\n<g id=\"node25\" class=\"node\">\n<title>18436</title>\n<path fill=\"#8d4be7\" stroke=\"#000000\" d=\"M1593.5,-244C1593.5,-244 1417.5,-244 1417.5,-244 1411.5,-244 1405.5,-238 1405.5,-232 1405.5,-232 1405.5,-188 1405.5,-188 1405.5,-182 1411.5,-176 1417.5,-176 1417.5,-176 1593.5,-176 1593.5,-176 1599.5,-176 1605.5,-182 1605.5,-188 1605.5,-188 1605.5,-232 1605.5,-232 1605.5,-238 1599.5,-244 1593.5,-244\"/>\n<text text-anchor=\"middle\" x=\"1505.5\" y=\"-228.8\" font-family=\"Helvetica,sans-Serif\" font-size=\"14.00\" fill=\"#000000\">latitude &lt;= 1.201</text>\n<text text-anchor=\"middle\" x=\"1505.5\" y=\"-213.8\" font-family=\"Helvetica,sans-Serif\" font-size=\"14.00\" fill=\"#000000\">samples = 2.0%</text>\n<text text-anchor=\"middle\" x=\"1505.5\" y=\"-198.8\" font-family=\"Helvetica,sans-Serif\" font-size=\"14.00\" fill=\"#000000\">value = [0.077, 0.007, 0.916]</text>\n<text text-anchor=\"middle\" x=\"1505.5\" y=\"-183.8\" font-family=\"Helvetica,sans-Serif\" font-size=\"14.00\" fill=\"#000000\">class = non functional</text>\n</g>\n<!-- 18202&#45;&gt;18436 -->\n<g id=\"edge24\" class=\"edge\">\n<title>18202&#45;&gt;18436</title>\n<path fill=\"none\" stroke=\"#000000\" d=\"M1290.28,-279.9465C1324.1022,-268.9543 1361.6768,-256.7426 1395.8416,-245.639\"/>\n<polygon fill=\"#000000\" stroke=\"#000000\" points=\"1396.9529,-248.9581 1405.3814,-242.5385 1394.7893,-242.3008 1396.9529,-248.9581\"/>\n</g>\n<!-- 18204 -->\n<g id=\"node19\" class=\"node\">\n<title>18204</title>\n<path fill=\"#833ce5\" stroke=\"#000000\" d=\"M1173,-140C1173,-140 990,-140 990,-140 984,-140 978,-134 978,-128 978,-128 978,-84 978,-84 978,-78 984,-72 990,-72 990,-72 1173,-72 1173,-72 1179,-72 1185,-78 1185,-84 1185,-84 1185,-128 1185,-128 1185,-134 1179,-140 1173,-140\"/>\n<text text-anchor=\"middle\" x=\"1081.5\" y=\"-124.8\" font-family=\"Helvetica,sans-Serif\" font-size=\"14.00\" fill=\"#000000\">management_trust &lt;= 13.705</text>\n<text text-anchor=\"middle\" x=\"1081.5\" y=\"-109.8\" font-family=\"Helvetica,sans-Serif\" font-size=\"14.00\" fill=\"#000000\">samples = 8.2%</text>\n<text text-anchor=\"middle\" x=\"1081.5\" y=\"-94.8\" font-family=\"Helvetica,sans-Serif\" font-size=\"14.00\" fill=\"#000000\">value = [0.011, 0.006, 0.983]</text>\n<text text-anchor=\"middle\" x=\"1081.5\" y=\"-79.8\" font-family=\"Helvetica,sans-Serif\" font-size=\"14.00\" fill=\"#000000\">class = non functional</text>\n</g>\n<!-- 18203&#45;&gt;18204 -->\n<g id=\"edge18\" class=\"edge\">\n<title>18203&#45;&gt;18204</title>\n<path fill=\"none\" stroke=\"#000000\" d=\"M1151.4465,-175.9465C1142.2884,-166.7884 1132.2838,-156.7838 1122.7788,-147.2788\"/>\n<polygon fill=\"#000000\" stroke=\"#000000\" points=\"1125.176,-144.7262 1115.63,-140.13 1120.2262,-149.676 1125.176,-144.7262\"/>\n</g>\n<!-- 18425 -->\n<g id=\"node22\" class=\"node\">\n<title>18425</title>\n<path fill=\"#a977ed\" stroke=\"#000000\" d=\"M1375.5,-140C1375.5,-140 1215.5,-140 1215.5,-140 1209.5,-140 1203.5,-134 1203.5,-128 1203.5,-128 1203.5,-84 1203.5,-84 1203.5,-78 1209.5,-72 1215.5,-72 1215.5,-72 1375.5,-72 1375.5,-72 1381.5,-72 1387.5,-78 1387.5,-84 1387.5,-84 1387.5,-128 1387.5,-128 1387.5,-134 1381.5,-140 1375.5,-140\"/>\n<text text-anchor=\"middle\" x=\"1295.5\" y=\"-124.8\" font-family=\"Helvetica,sans-Serif\" font-size=\"14.00\" fill=\"#000000\">latitude &lt;= &#45;1.768</text>\n<text text-anchor=\"middle\" x=\"1295.5\" y=\"-109.8\" font-family=\"Helvetica,sans-Serif\" font-size=\"14.00\" fill=\"#000000\">samples = 0.1%</text>\n<text text-anchor=\"middle\" x=\"1295.5\" y=\"-94.8\" font-family=\"Helvetica,sans-Serif\" font-size=\"14.00\" fill=\"#000000\">value = [0.239, 0.0, 0.761]</text>\n<text text-anchor=\"middle\" x=\"1295.5\" y=\"-79.8\" font-family=\"Helvetica,sans-Serif\" font-size=\"14.00\" fill=\"#000000\">class = non functional</text>\n</g>\n<!-- 18203&#45;&gt;18425 -->\n<g id=\"edge21\" class=\"edge\">\n<title>18203&#45;&gt;18425</title>\n<path fill=\"none\" stroke=\"#000000\" d=\"M1221.5181,-175.9465C1231.2046,-166.7884 1241.7864,-156.7838 1251.8397,-147.2788\"/>\n<polygon fill=\"#000000\" stroke=\"#000000\" points=\"1254.539,-149.5434 1259.401,-140.13 1249.7299,-144.4569 1254.539,-149.5434\"/>\n</g>\n<!-- 18205 -->\n<g id=\"node20\" class=\"node\">\n<title>18205</title>\n<path fill=\"#c0c0c0\" stroke=\"#000000\" d=\"M1059.5,-36C1059.5,-36 1029.5,-36 1029.5,-36 1023.5,-36 1017.5,-30 1017.5,-24 1017.5,-24 1017.5,-12 1017.5,-12 1017.5,-6 1023.5,0 1029.5,0 1029.5,0 1059.5,0 1059.5,0 1065.5,0 1071.5,-6 1071.5,-12 1071.5,-12 1071.5,-24 1071.5,-24 1071.5,-30 1065.5,-36 1059.5,-36\"/>\n<text text-anchor=\"middle\" x=\"1044.5\" y=\"-14.3\" font-family=\"Helvetica,sans-Serif\" font-size=\"14.00\" fill=\"#000000\">(...)</text>\n</g>\n<!-- 18204&#45;&gt;18205 -->\n<g id=\"edge19\" class=\"edge\">\n<title>18204&#45;&gt;18205</title>\n<path fill=\"none\" stroke=\"#000000\" d=\"M1067.1948,-71.9769C1063.5116,-63.2167 1059.5941,-53.8995 1056.0691,-45.5157\"/>\n<polygon fill=\"#000000\" stroke=\"#000000\" points=\"1059.2513,-44.0537 1052.1489,-36.192 1052.7984,-46.7669 1059.2513,-44.0537\"/>\n</g>\n<!-- 18422 -->\n<g id=\"node21\" class=\"node\">\n<title>18422</title>\n<path fill=\"#c0c0c0\" stroke=\"#000000\" d=\"M1131.5,-36C1131.5,-36 1101.5,-36 1101.5,-36 1095.5,-36 1089.5,-30 1089.5,-24 1089.5,-24 1089.5,-12 1089.5,-12 1089.5,-6 1095.5,0 1101.5,0 1101.5,0 1131.5,0 1131.5,0 1137.5,0 1143.5,-6 1143.5,-12 1143.5,-12 1143.5,-24 1143.5,-24 1143.5,-30 1137.5,-36 1131.5,-36\"/>\n<text text-anchor=\"middle\" x=\"1116.5\" y=\"-14.3\" font-family=\"Helvetica,sans-Serif\" font-size=\"14.00\" fill=\"#000000\">(...)</text>\n</g>\n<!-- 18204&#45;&gt;18422 -->\n<g id=\"edge20\" class=\"edge\">\n<title>18204&#45;&gt;18422</title>\n<path fill=\"none\" stroke=\"#000000\" d=\"M1095.0319,-71.9769C1098.5161,-63.2167 1102.2218,-53.8995 1105.5562,-45.5157\"/>\n<polygon fill=\"#000000\" stroke=\"#000000\" points=\"1108.821,-46.7775 1109.2646,-36.192 1102.3166,-44.1905 1108.821,-46.7775\"/>\n</g>\n<!-- 18426 -->\n<g id=\"node23\" class=\"node\">\n<title>18426</title>\n<path fill=\"#c0c0c0\" stroke=\"#000000\" d=\"M1271.5,-36C1271.5,-36 1241.5,-36 1241.5,-36 1235.5,-36 1229.5,-30 1229.5,-24 1229.5,-24 1229.5,-12 1229.5,-12 1229.5,-6 1235.5,0 1241.5,0 1241.5,0 1271.5,0 1271.5,0 1277.5,0 1283.5,-6 1283.5,-12 1283.5,-12 1283.5,-24 1283.5,-24 1283.5,-30 1277.5,-36 1271.5,-36\"/>\n<text text-anchor=\"middle\" x=\"1256.5\" y=\"-14.3\" font-family=\"Helvetica,sans-Serif\" font-size=\"14.00\" fill=\"#000000\">(...)</text>\n</g>\n<!-- 18425&#45;&gt;18426 -->\n<g id=\"edge22\" class=\"edge\">\n<title>18425&#45;&gt;18426</title>\n<path fill=\"none\" stroke=\"#000000\" d=\"M1280.4216,-71.9769C1276.5392,-63.2167 1272.41,-53.8995 1268.6945,-45.5157\"/>\n<polygon fill=\"#000000\" stroke=\"#000000\" points=\"1271.814,-43.9162 1264.5623,-36.192 1265.4143,-46.7525 1271.814,-43.9162\"/>\n</g>\n<!-- 18429 -->\n<g id=\"node24\" class=\"node\">\n<title>18429</title>\n<path fill=\"#c0c0c0\" stroke=\"#000000\" d=\"M1343.5,-36C1343.5,-36 1313.5,-36 1313.5,-36 1307.5,-36 1301.5,-30 1301.5,-24 1301.5,-24 1301.5,-12 1301.5,-12 1301.5,-6 1307.5,0 1313.5,0 1313.5,0 1343.5,0 1343.5,0 1349.5,0 1355.5,-6 1355.5,-12 1355.5,-12 1355.5,-24 1355.5,-24 1355.5,-30 1349.5,-36 1343.5,-36\"/>\n<text text-anchor=\"middle\" x=\"1328.5\" y=\"-14.3\" font-family=\"Helvetica,sans-Serif\" font-size=\"14.00\" fill=\"#000000\">(...)</text>\n</g>\n<!-- 18425&#45;&gt;18429 -->\n<g id=\"edge23\" class=\"edge\">\n<title>18425&#45;&gt;18429</title>\n<path fill=\"none\" stroke=\"#000000\" d=\"M1308.2587,-71.9769C1311.508,-63.3119 1314.9618,-54.102 1318.079,-45.7894\"/>\n<polygon fill=\"#000000\" stroke=\"#000000\" points=\"1321.4439,-46.7842 1321.678,-36.192 1314.8896,-44.3263 1321.4439,-46.7842\"/>\n</g>\n<!-- 18437 -->\n<g id=\"node26\" class=\"node\">\n<title>18437</title>\n<path fill=\"#8945e7\" stroke=\"#000000\" d=\"M1593.5,-140C1593.5,-140 1417.5,-140 1417.5,-140 1411.5,-140 1405.5,-134 1405.5,-128 1405.5,-128 1405.5,-84 1405.5,-84 1405.5,-78 1411.5,-72 1417.5,-72 1417.5,-72 1593.5,-72 1593.5,-72 1599.5,-72 1605.5,-78 1605.5,-84 1605.5,-84 1605.5,-128 1605.5,-128 1605.5,-134 1599.5,-140 1593.5,-140\"/>\n<text text-anchor=\"middle\" x=\"1505.5\" y=\"-124.8\" font-family=\"Helvetica,sans-Serif\" font-size=\"14.00\" fill=\"#000000\">latitude &lt;= 0.579</text>\n<text text-anchor=\"middle\" x=\"1505.5\" y=\"-109.8\" font-family=\"Helvetica,sans-Serif\" font-size=\"14.00\" fill=\"#000000\">samples = 1.8%</text>\n<text text-anchor=\"middle\" x=\"1505.5\" y=\"-94.8\" font-family=\"Helvetica,sans-Serif\" font-size=\"14.00\" fill=\"#000000\">value = [0.051, 0.008, 0.941]</text>\n<text text-anchor=\"middle\" x=\"1505.5\" y=\"-79.8\" font-family=\"Helvetica,sans-Serif\" font-size=\"14.00\" fill=\"#000000\">class = non functional</text>\n</g>\n<!-- 18436&#45;&gt;18437 -->\n<g id=\"edge25\" class=\"edge\">\n<title>18436&#45;&gt;18437</title>\n<path fill=\"none\" stroke=\"#000000\" d=\"M1505.5,-175.9465C1505.5,-167.776 1505.5,-158.9318 1505.5,-150.3697\"/>\n<polygon fill=\"#000000\" stroke=\"#000000\" points=\"1509.0001,-150.13 1505.5,-140.13 1502.0001,-150.13 1509.0001,-150.13\"/>\n</g>\n<!-- 18584 -->\n<g id=\"node29\" class=\"node\">\n<title>18584</title>\n<path fill=\"#bc96f1\" stroke=\"#000000\" d=\"M1795.5,-140C1795.5,-140 1635.5,-140 1635.5,-140 1629.5,-140 1623.5,-134 1623.5,-128 1623.5,-128 1623.5,-84 1623.5,-84 1623.5,-78 1629.5,-72 1635.5,-72 1635.5,-72 1795.5,-72 1795.5,-72 1801.5,-72 1807.5,-78 1807.5,-84 1807.5,-84 1807.5,-128 1807.5,-128 1807.5,-134 1801.5,-140 1795.5,-140\"/>\n<text text-anchor=\"middle\" x=\"1715.5\" y=\"-124.8\" font-family=\"Helvetica,sans-Serif\" font-size=\"14.00\" fill=\"#000000\">latitude &lt;= 1.32</text>\n<text text-anchor=\"middle\" x=\"1715.5\" y=\"-109.8\" font-family=\"Helvetica,sans-Serif\" font-size=\"14.00\" fill=\"#000000\">samples = 0.2%</text>\n<text text-anchor=\"middle\" x=\"1715.5\" y=\"-94.8\" font-family=\"Helvetica,sans-Serif\" font-size=\"14.00\" fill=\"#000000\">value = [0.319, 0.0, 0.681]</text>\n<text text-anchor=\"middle\" x=\"1715.5\" y=\"-79.8\" font-family=\"Helvetica,sans-Serif\" font-size=\"14.00\" fill=\"#000000\">class = non functional</text>\n</g>\n<!-- 18436&#45;&gt;18584 -->\n<g id=\"edge28\" class=\"edge\">\n<title>18436&#45;&gt;18584</title>\n<path fill=\"none\" stroke=\"#000000\" d=\"M1574.2619,-175.9465C1594.4765,-165.9354 1616.7336,-154.9129 1637.4828,-144.6371\"/>\n<polygon fill=\"#000000\" stroke=\"#000000\" points=\"1639.1757,-147.7045 1646.5837,-140.13 1636.0691,-141.4316 1639.1757,-147.7045\"/>\n</g>\n<!-- 18438 -->\n<g id=\"node27\" class=\"node\">\n<title>18438</title>\n<path fill=\"#c0c0c0\" stroke=\"#000000\" d=\"M1484.5,-36C1484.5,-36 1454.5,-36 1454.5,-36 1448.5,-36 1442.5,-30 1442.5,-24 1442.5,-24 1442.5,-12 1442.5,-12 1442.5,-6 1448.5,0 1454.5,0 1454.5,0 1484.5,0 1484.5,0 1490.5,0 1496.5,-6 1496.5,-12 1496.5,-12 1496.5,-24 1496.5,-24 1496.5,-30 1490.5,-36 1484.5,-36\"/>\n<text text-anchor=\"middle\" x=\"1469.5\" y=\"-14.3\" font-family=\"Helvetica,sans-Serif\" font-size=\"14.00\" fill=\"#000000\">(...)</text>\n</g>\n<!-- 18437&#45;&gt;18438 -->\n<g id=\"edge26\" class=\"edge\">\n<title>18437&#45;&gt;18438</title>\n<path fill=\"none\" stroke=\"#000000\" d=\"M1491.5815,-71.9769C1487.9977,-63.2167 1484.1862,-53.8995 1480.7564,-45.5157\"/>\n<polygon fill=\"#000000\" stroke=\"#000000\" points=\"1483.968,-44.1222 1476.9422,-36.192 1477.4891,-46.7727 1483.968,-44.1222\"/>\n</g>\n<!-- 18527 -->\n<g id=\"node28\" class=\"node\">\n<title>18527</title>\n<path fill=\"#c0c0c0\" stroke=\"#000000\" d=\"M1556.5,-36C1556.5,-36 1526.5,-36 1526.5,-36 1520.5,-36 1514.5,-30 1514.5,-24 1514.5,-24 1514.5,-12 1514.5,-12 1514.5,-6 1520.5,0 1526.5,0 1526.5,0 1556.5,0 1556.5,0 1562.5,0 1568.5,-6 1568.5,-12 1568.5,-12 1568.5,-24 1568.5,-24 1568.5,-30 1562.5,-36 1556.5,-36\"/>\n<text text-anchor=\"middle\" x=\"1541.5\" y=\"-14.3\" font-family=\"Helvetica,sans-Serif\" font-size=\"14.00\" fill=\"#000000\">(...)</text>\n</g>\n<!-- 18437&#45;&gt;18527 -->\n<g id=\"edge27\" class=\"edge\">\n<title>18437&#45;&gt;18527</title>\n<path fill=\"none\" stroke=\"#000000\" d=\"M1519.4185,-71.9769C1523.0023,-63.2167 1526.8138,-53.8995 1530.2436,-45.5157\"/>\n<polygon fill=\"#000000\" stroke=\"#000000\" points=\"1533.5109,-46.7727 1534.0578,-36.192 1527.032,-44.1222 1533.5109,-46.7727\"/>\n</g>\n<!-- 18585 -->\n<g id=\"node30\" class=\"node\">\n<title>18585</title>\n<path fill=\"#c0c0c0\" stroke=\"#000000\" d=\"M1694.5,-36C1694.5,-36 1664.5,-36 1664.5,-36 1658.5,-36 1652.5,-30 1652.5,-24 1652.5,-24 1652.5,-12 1652.5,-12 1652.5,-6 1658.5,0 1664.5,0 1664.5,0 1694.5,0 1694.5,0 1700.5,0 1706.5,-6 1706.5,-12 1706.5,-12 1706.5,-24 1706.5,-24 1706.5,-30 1700.5,-36 1694.5,-36\"/>\n<text text-anchor=\"middle\" x=\"1679.5\" y=\"-14.3\" font-family=\"Helvetica,sans-Serif\" font-size=\"14.00\" fill=\"#000000\">(...)</text>\n</g>\n<!-- 18584&#45;&gt;18585 -->\n<g id=\"edge29\" class=\"edge\">\n<title>18584&#45;&gt;18585</title>\n<path fill=\"none\" stroke=\"#000000\" d=\"M1701.5815,-71.9769C1697.9977,-63.2167 1694.1862,-53.8995 1690.7564,-45.5157\"/>\n<polygon fill=\"#000000\" stroke=\"#000000\" points=\"1693.968,-44.1222 1686.9422,-36.192 1687.4891,-46.7727 1693.968,-44.1222\"/>\n</g>\n<!-- 18630 -->\n<g id=\"node31\" class=\"node\">\n<title>18630</title>\n<path fill=\"#c0c0c0\" stroke=\"#000000\" d=\"M1766.5,-36C1766.5,-36 1736.5,-36 1736.5,-36 1730.5,-36 1724.5,-30 1724.5,-24 1724.5,-24 1724.5,-12 1724.5,-12 1724.5,-6 1730.5,0 1736.5,0 1736.5,0 1766.5,0 1766.5,0 1772.5,0 1778.5,-6 1778.5,-12 1778.5,-12 1778.5,-24 1778.5,-24 1778.5,-30 1772.5,-36 1766.5,-36\"/>\n<text text-anchor=\"middle\" x=\"1751.5\" y=\"-14.3\" font-family=\"Helvetica,sans-Serif\" font-size=\"14.00\" fill=\"#000000\">(...)</text>\n</g>\n<!-- 18584&#45;&gt;18630 -->\n<g id=\"edge30\" class=\"edge\">\n<title>18584&#45;&gt;18630</title>\n<path fill=\"none\" stroke=\"#000000\" d=\"M1729.4185,-71.9769C1733.0023,-63.2167 1736.8138,-53.8995 1740.2436,-45.5157\"/>\n<polygon fill=\"#000000\" stroke=\"#000000\" points=\"1743.5109,-46.7727 1744.0578,-36.192 1737.032,-44.1222 1743.5109,-46.7727\"/>\n</g>\n</g>\n</svg>\n"
          },
          "metadata": {
            "tags": []
          }
        }
      ]
    },
    {
      "cell_type": "markdown",
      "metadata": {
        "id": "kCDV0GxXvipy",
        "colab_type": "text"
      },
      "source": [
        "Below we increased the min_samples_leaf which decreased the reducible error between the train and validation set."
      ]
    },
    {
      "cell_type": "code",
      "metadata": {
        "id": "4lmkrrXdV4C2",
        "colab_type": "code",
        "outputId": "f9c1f8b5-8a31-4b4b-c5ff-c37e7c2cf015",
        "colab": {
          "base_uri": "https://localhost:8080/",
          "height": 1000
        }
      },
      "source": [
        "%matplotlib inline\n",
        "import matplotlib.pyplot as plt\n",
        "\n",
        "coefficients = pd.Series(model.feature_importances_, encoded_columns)\n",
        "plt.figure(figsize = (10,30))\n",
        "coefficients.sort_values().plot.barh(color = 'pink')"
      ],
      "execution_count": 0,
      "outputs": [
        {
          "output_type": "execute_result",
          "data": {
            "text/plain": [
              "<matplotlib.axes._subplots.AxesSubplot at 0x7f479632c0f0>"
            ]
          },
          "metadata": {
            "tags": []
          },
          "execution_count": 17
        },
        {
          "output_type": "display_data",
          "data": {
            "image/png": "[encoded data removed]",
            "text/plain": [
              "<Figure size 720x2160 with 1 Axes>"
            ]
          },
          "metadata": {
            "tags": []
          }
        }
      ]
    },
    {
      "cell_type": "code",
      "metadata": {
        "id": "n0d0vMxG7czo",
        "colab_type": "code",
        "outputId": "0665c0e8-2f41-47e6-cbc2-fe834e32f125",
        "colab": {
          "base_uri": "https://localhost:8080/",
          "height": 221
        }
      },
      "source": [
        "coefficients"
      ],
      "execution_count": 0,
      "outputs": [
        {
          "output_type": "execute_result",
          "data": {
            "text/plain": [
              "amount_tsh                               0.027038\n",
              "gps_height                               0.075116\n",
              "longitude                                0.195372\n",
              "latitude                                 0.189188\n",
              "num_private                              0.001022\n",
              "                                           ...   \n",
              "waterpoint_type_group_hand pump          0.002750\n",
              "waterpoint_type_group_other              0.070715\n",
              "waterpoint_type_group_improved spring    0.000560\n",
              "waterpoint_type_group_cattle trough      0.000086\n",
              "waterpoint_type_group_dam                0.000000\n",
              "Length: 103, dtype: float64"
            ]
          },
          "metadata": {
            "tags": []
          },
          "execution_count": 18
        }
      ]
    },
    {
      "cell_type": "code",
      "metadata": {
        "id": "acwGvYYAvwXz",
        "colab_type": "code",
        "colab": {}
      },
      "source": [
        "encoder = ce.OrdinalEncoder()\n",
        "imputer = SimpleImputer(strategy='median')\n",
        "scaler = StandardScaler()\n",
        "\n",
        "X_train_encoded = encoder.fit_transform(X_train)\n",
        "X_val_encoded = encoder.transform(X_val)\n",
        "X_test_encoded = encoder.transform(X_test)\n",
        "\n",
        "\n",
        "X_train_imputer = imputer.fit_transform(X_train_encoded)\n",
        "X_val_imputer = imputer.transform(X_val_encoded)\n",
        "X_test_imputer = imputer.transform(X_test_encoded)\n",
        "\n",
        "\n",
        "X_train_scaler = scaler.fit_transform(X_train_imputer)\n",
        "X_val_scaler = scaler.transform(X_val_imputer)\n",
        "X_test_scaler = scaler.transform(X_test_imputer)"
      ],
      "execution_count": 0,
      "outputs": []
    },
    {
      "cell_type": "code",
      "metadata": {
        "id": "oFJ9tuTiuaYJ",
        "colab_type": "code",
        "outputId": "68775bde-e734-4e25-fdfb-881c0a9b5e54",
        "colab": {
          "base_uri": "https://localhost:8080/",
          "height": 51
        }
      },
      "source": [
        "pipeline = make_pipeline(\n",
        "    SimpleImputer(strategy='median'),\n",
        "    DecisionTreeClassifier(max_depth=10,  min_samples_leaf=15, random_state=42)\n",
        ")\n",
        "#fit training set\n",
        "pipeline.fit(X_train_encoded,y_train)\n",
        "#scores\n",
        "print('Training score', pipeline.score(X_train_encoded,y_train))\n",
        "print('Validation score', pipeline.score(X_val_encoded , y_val))"
      ],
      "execution_count": 0,
      "outputs": [
        {
          "output_type": "stream",
          "text": [
            "Training score 0.7572390572390573\n",
            "Validation score 0.7427609427609427\n"
          ],
          "name": "stdout"
        }
      ]
    },
    {
      "cell_type": "code",
      "metadata": {
        "id": "r1hAQapyPNMW",
        "colab_type": "code",
        "outputId": "7511bfb9-4d8b-4fb5-b282-55eca54a6518",
        "colab": {
          "base_uri": "https://localhost:8080/",
          "height": 51
        }
      },
      "source": [
        "pipeline1 = make_pipeline(\n",
        "    SimpleImputer(strategy='median'),\n",
        "    StandardScaler(),\n",
        "    LogisticRegression(random_state=42, solver = 'lbfgs', max_iter= 200)\n",
        ")\n",
        "#fit training set\n",
        "pipeline.fit(X_train_encoded,y_train)\n",
        "#scores\n",
        "print('Training score', pipeline.score(X_train_encoded,y_train))\n",
        "print('Validation score', pipeline.score(X_val_encoded , y_val))"
      ],
      "execution_count": 0,
      "outputs": [
        {
          "output_type": "stream",
          "text": [
            "Training score 0.7572390572390573\n",
            "Validation score 0.7427609427609427\n"
          ],
          "name": "stdout"
        }
      ]
    },
    {
      "cell_type": "code",
      "metadata": {
        "id": "lEPGoBQvdVPS",
        "colab_type": "code",
        "outputId": "01699440-2f0b-48ae-f411-683e4b1e9d01",
        "colab": {
          "base_uri": "https://localhost:8080/",
          "height": 51
        }
      },
      "source": [
        "pipeline = make_pipeline(\n",
        "    SimpleImputer(strategy='median'),\n",
        "    DecisionTreeClassifier(min_samples_leaf=6, random_state=42),\n",
        ")\n",
        "#fit training set\n",
        "pipeline.fit(X_train_encoded,y_train)\n",
        "#scores\n",
        "print('Training score', pipeline.score(X_train_encoded,y_train))\n",
        "print('Validation score', pipeline.score(X_val_encoded , y_val))"
      ],
      "execution_count": 0,
      "outputs": [
        {
          "output_type": "stream",
          "text": [
            "Training score 0.8636574074074074\n",
            "Validation score 0.7737373737373737\n"
          ],
          "name": "stdout"
        }
      ]
    },
    {
      "cell_type": "code",
      "metadata": {
        "id": "Dlb9nyCqyK1l",
        "colab_type": "code",
        "outputId": "73b03357-6dbd-49ec-f1cc-54302f709be0",
        "colab": {
          "base_uri": "https://localhost:8080/",
          "height": 51
        }
      },
      "source": [
        "pipeline = make_pipeline(\n",
        "    SimpleImputer(strategy='median'),\n",
        "    DecisionTreeClassifier(min_samples_leaf=10, random_state=42)\n",
        ")\n",
        "#fit training set\n",
        "pipeline.fit(X_train_encoded,y_train)\n",
        "#scores\n",
        "print('Training score', pipeline.score(X_train_encoded,y_train))\n",
        "print('Validation score', pipeline.score(X_val_encoded , y_val))"
      ],
      "execution_count": 0,
      "outputs": [
        {
          "output_type": "stream",
          "text": [
            "Training score 0.8372053872053872\n",
            "Validation score 0.7746632996632996\n"
          ],
          "name": "stdout"
        }
      ]
    },
    {
      "cell_type": "code",
      "metadata": {
        "id": "qeBAef2H28YW",
        "colab_type": "code",
        "outputId": "4fa34a12-d342-4a60-9e03-43adf75c2d57",
        "colab": {
          "base_uri": "https://localhost:8080/",
          "height": 51
        }
      },
      "source": [
        "pd.Series([coefficients[coefficients < 0.05].index])"
      ],
      "execution_count": 0,
      "outputs": [
        {
          "output_type": "execute_result",
          "data": {
            "text/plain": [
              "0    Index(['amount_tsh', 'num_private', 'district_...\n",
              "dtype: object"
            ]
          },
          "metadata": {
            "tags": []
          },
          "execution_count": 24
        }
      ]
    },
    {
      "cell_type": "code",
      "metadata": {
        "id": "xtCuWWUQ9tDC",
        "colab_type": "code",
        "outputId": "362ea85c-a17e-4d75-918c-34eee3390ad3",
        "colab": {
          "base_uri": "https://localhost:8080/",
          "height": 198
        }
      },
      "source": [
        "X_train_encoded.drop(columns= drop_columns)\n",
        "X_val_encoded.drop(columns= drop_columns)\n",
        "X_test_encode.drop(columns= drop_columns)\n"
      ],
      "execution_count": 0,
      "outputs": [
        {
          "output_type": "error",
          "ename": "NameError",
          "evalue": "ignored",
          "traceback": [
            "\u001b[0;31m---------------------------------------------------------------------------\u001b[0m",
            "\u001b[0;31mNameError\u001b[0m                                 Traceback (most recent call last)",
            "\u001b[0;32m<ipython-input-25-a1111bf1cbd5>\u001b[0m in \u001b[0;36m<module>\u001b[0;34m()\u001b[0m\n\u001b[0;32m----> 1\u001b[0;31m \u001b[0mX_train_encoded\u001b[0m\u001b[0;34m.\u001b[0m\u001b[0mdrop\u001b[0m\u001b[0;34m(\u001b[0m\u001b[0mcolumns\u001b[0m\u001b[0;34m=\u001b[0m \u001b[0mdrop_columns\u001b[0m\u001b[0;34m)\u001b[0m\u001b[0;34m\u001b[0m\u001b[0;34m\u001b[0m\u001b[0m\n\u001b[0m\u001b[1;32m      2\u001b[0m \u001b[0mX_val_encoded\u001b[0m\u001b[0;34m.\u001b[0m\u001b[0mdrop\u001b[0m\u001b[0;34m(\u001b[0m\u001b[0mcolumns\u001b[0m\u001b[0;34m=\u001b[0m \u001b[0mdrop_columns\u001b[0m\u001b[0;34m)\u001b[0m\u001b[0;34m\u001b[0m\u001b[0;34m\u001b[0m\u001b[0m\n\u001b[1;32m      3\u001b[0m \u001b[0mX_test_encode\u001b[0m\u001b[0;34m.\u001b[0m\u001b[0mdrop\u001b[0m\u001b[0;34m(\u001b[0m\u001b[0mcolumns\u001b[0m\u001b[0;34m=\u001b[0m \u001b[0mdrop_columns\u001b[0m\u001b[0;34m)\u001b[0m\u001b[0;34m\u001b[0m\u001b[0;34m\u001b[0m\u001b[0m\n",
            "\u001b[0;31mNameError\u001b[0m: name 'drop_columns' is not defined"
          ]
        }
      ]
    },
    {
      "cell_type": "code",
      "metadata": {
        "id": "WygLRmGo70zE",
        "colab_type": "code",
        "colab": {}
      },
      "source": [
        "features = coefficients[coefficients<0.001].index\n",
        "\n"
      ],
      "execution_count": 0,
      "outputs": []
    },
    {
      "cell_type": "code",
      "metadata": {
        "id": "MCCqnmKY332_",
        "colab_type": "code",
        "colab": {}
      },
      "source": [
        "y_pred = pipeline.predict(X_test_imputer)\n",
        "submission = sample_submission.copy()\n",
        "submission['status_group'] = y_pred\n",
        "submission.to_csv('submission_8.csv', index = False)"
      ],
      "execution_count": 0,
      "outputs": []
    }
  ]
}